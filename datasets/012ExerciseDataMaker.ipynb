{
 "cells": [
  {
   "cell_type": "code",
   "execution_count": 1,
   "id": "e9e12ca3",
   "metadata": {},
   "outputs": [],
   "source": [
    "import numpy as np"
   ]
  },
  {
   "cell_type": "code",
   "execution_count": null,
   "id": "03b874fe",
   "metadata": {},
   "outputs": [],
   "source": [
    "nSamples = 100\n",
    "my_mean = 50\n",
    "my_sd = 10\n",
    "data = my_mean + my_sd*np.random.randn(nSamples)"
   ]
  },
  {
   "cell_type": "code",
   "execution_count": null,
   "id": "0a3ddad2",
   "metadata": {},
   "outputs": [],
   "source": [
    "np.save(\"012_anxiety_data.npy\", data)"
   ]
  }
 ],
 "metadata": {
  "kernelspec": {
   "display_name": "Python 3.8.8 ('base')",
   "language": "python",
   "name": "python388jvsc74a57bd0cd78fef2128015050713e82ca51c6520b11aee7c9ee8df750520bbbc7384cbaa"
  },
  "language_info": {
   "codemirror_mode": {
    "name": "ipython",
    "version": 3
   },
   "file_extension": ".py",
   "mimetype": "text/x-python",
   "name": "python",
   "nbconvert_exporter": "python",
   "pygments_lexer": "ipython3",
   "version": "3.8.12"
  }
 },
 "nbformat": 4,
 "nbformat_minor": 5
}
