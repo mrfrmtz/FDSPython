{
 "cells": [
  {
   "cell_type": "markdown",
   "id": "e912b12c",
   "metadata": {},
   "source": [
    "# This file is used to make time series data "
   ]
  },
  {
   "cell_type": "code",
   "execution_count": 5,
   "id": "d994d495",
   "metadata": {},
   "outputs": [],
   "source": [
    "import numpy as np\n",
    "import pandas as pd"
   ]
  },
  {
   "cell_type": "code",
   "execution_count": 22,
   "id": "3c81d270",
   "metadata": {},
   "outputs": [],
   "source": [
    "# simulate data\n",
    "index = pd.date_range(start='2010-01-01', end='2022-03-30', freq='D')\n",
    "series = pd.DataFrame(np.random.randint(0, 100, size=(len(series))), index=index)"
   ]
  },
  {
   "cell_type": "code",
   "execution_count": 23,
   "id": "e85a8d6d",
   "metadata": {},
   "outputs": [
    {
     "data": {
      "text/plain": [
       "<bound method NDFrame.describe of 2010-01-01    37\n",
       "2010-01-02    22\n",
       "2010-01-03    16\n",
       "2010-01-04     5\n",
       "2010-01-05    22\n",
       "              ..\n",
       "2022-03-26    23\n",
       "2022-03-27     0\n",
       "2022-03-28     6\n",
       "2022-03-29    29\n",
       "2022-03-30    10\n",
       "Freq: D, Length: 4472, dtype: int64>"
      ]
     },
     "execution_count": 23,
     "metadata": {},
     "output_type": "execute_result"
    }
   ],
   "source": [
    "series.describe"
   ]
  },
  {
   "cell_type": "code",
   "execution_count": 17,
   "id": "07455155",
   "metadata": {},
   "outputs": [
    {
     "data": {
      "text/plain": [
       "FrozenList([None])"
      ]
     },
     "execution_count": 17,
     "metadata": {},
     "output_type": "execute_result"
    }
   ],
   "source": [
    "series.names"
   ]
  },
  {
   "cell_type": "code",
   "execution_count": 18,
   "id": "30d1709a",
   "metadata": {},
   "outputs": [],
   "source": [
    "size=(len(series))"
   ]
  },
  {
   "cell_type": "code",
   "execution_count": 19,
   "id": "6c6d4f53",
   "metadata": {},
   "outputs": [
    {
     "data": {
      "text/plain": [
       "4472"
      ]
     },
     "execution_count": 19,
     "metadata": {},
     "output_type": "execute_result"
    }
   ],
   "source": [
    "size"
   ]
  },
  {
   "cell_type": "code",
   "execution_count": null,
   "id": "7a03c9c7",
   "metadata": {},
   "outputs": [],
   "source": []
  }
 ],
 "metadata": {
  "kernelspec": {
   "display_name": "Python 3 (ipykernel)",
   "language": "python",
   "name": "python3"
  },
  "language_info": {
   "codemirror_mode": {
    "name": "ipython",
    "version": 3
   },
   "file_extension": ".py",
   "mimetype": "text/x-python",
   "name": "python",
   "nbconvert_exporter": "python",
   "pygments_lexer": "ipython3",
   "version": "3.9.7"
  }
 },
 "nbformat": 4,
 "nbformat_minor": 5
}
