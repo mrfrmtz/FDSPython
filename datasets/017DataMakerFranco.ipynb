{
 "cells": [
  {
   "cell_type": "markdown",
   "id": "b2d48819",
   "metadata": {},
   "source": [
    "# Make data for Tutorial 17\n",
    "\n",
    "Generate a poorly formatted CSV file that needs to be reconfigured into a useful form.\n",
    "\n",
    "The scenario for the tutorial is that of a lab that has datasets generated in a format that is suboptimal for analyzing/plotting and the data scientist needs to change the format so to analyze the data.\n",
    "\n",
    "The **input format** provided is: \n",
    "  - Data are in CSV files in a non useful format \n",
    "  - Column for Young Female one for Young male, one for Old female, one for Old male\n",
    "\n",
    "The input format is trial/condition by row. The format looks like the following\n",
    "\n",
    "Below the conditions:\n",
    "\n",
    "| male wild type | female wild type | male mutant | female mutant |\n",
    "| --- | --- | --- | --- |\n",
    "|nums | nums | num | num |\n",
    "\n",
    "Below an example dataset from the lab:\n",
    "\n",
    "| male wild type | female wild type | male mutant | female mutant |\n",
    "| --- | --- | --- | --- |\n",
    "| 10 | 5 | 4 | 10 |\n",
    "| 23 | 4 | 22 | 33 |\n",
    "| 22 | 23 | 5 | 33 |\n",
    "| 11 | 25 | 5 | 4 |\n",
    "\n",
    "The **output format** is a 3 columns format first colum data x subjects, second column level of factor one, third column level of factor 2\n",
    "\n",
    "The final format of the data should be reoarganized as follows:\n",
    "\n",
    "| Data | Sex | Strain | \n",
    "| --- | --- | --- |\n",
    "| 0-100 | M/F | Wild Type / Mutant |\n",
    "\n",
    "If you know that the ra N measurements. \n",
    "Then we can use if then to find the labels and we can reassign the labels into the oroper colum/var type.\n",
    "\n",
    "Because there is no reandomization on the data as thye come from the experiemnts it is very easy to reorganize the clumns in **input** to the correspoding labels in **output**\n",
    "\n",
    "Make a video of the dataset and changes needed to jus liek the one captured from larry\n",
    "\n",
    "Given them a last qustion with a different dataset to basiclly do the same thing but slightly different (the input is transposed row/columns)"
   ]
  },
  {
   "cell_type": "code",
   "execution_count": 1,
   "id": "ef56518d",
   "metadata": {},
   "outputs": [
    {
     "ename": "FileNotFoundError",
     "evalue": "[Errno 2] No such file or directory: 'datasets/tutorial017-data.csv'",
     "output_type": "error",
     "traceback": [
      "\u001b[0;31m---------------------------------------------------------------------------\u001b[0m",
      "\u001b[0;31mFileNotFoundError\u001b[0m                         Traceback (most recent call last)",
      "\u001b[0;32m/var/folders/98/_65c1j3x5ds5zy90mmfzpmy80000gn/T/ipykernel_23242/651786760.py\u001b[0m in \u001b[0;36m<module>\u001b[0;34m\u001b[0m\n\u001b[1;32m     11\u001b[0m \u001b[0mheader_names\u001b[0m \u001b[0;34m=\u001b[0m \u001b[0;34m[\u001b[0m\u001b[0;34m'Data'\u001b[0m\u001b[0;34m,\u001b[0m\u001b[0;34m'Trial Type'\u001b[0m\u001b[0;34m]\u001b[0m\u001b[0;34m\u001b[0m\u001b[0;34m\u001b[0m\u001b[0m\n\u001b[1;32m     12\u001b[0m \u001b[0;34m\u001b[0m\u001b[0m\n\u001b[0;32m---> 13\u001b[0;31m \u001b[0;32mwith\u001b[0m \u001b[0mopen\u001b[0m\u001b[0;34m(\u001b[0m\u001b[0;34m'datasets/tutorial017-data.csv'\u001b[0m\u001b[0;34m,\u001b[0m\u001b[0;34m'w'\u001b[0m\u001b[0;34m,\u001b[0m\u001b[0mnewline\u001b[0m\u001b[0;34m=\u001b[0m\u001b[0;34m''\u001b[0m\u001b[0;34m)\u001b[0m \u001b[0;32mas\u001b[0m \u001b[0mdatacsv\u001b[0m\u001b[0;34m:\u001b[0m\u001b[0;34m\u001b[0m\u001b[0;34m\u001b[0m\u001b[0m\n\u001b[0m\u001b[1;32m     14\u001b[0m     \u001b[0;31m# Open and start writing into the CSV file object\u001b[0m\u001b[0;34m\u001b[0m\u001b[0;34m\u001b[0m\u001b[0m\n\u001b[1;32m     15\u001b[0m     \u001b[0mcsv_obj\u001b[0m \u001b[0;34m=\u001b[0m \u001b[0mcsv\u001b[0m\u001b[0;34m.\u001b[0m\u001b[0mDictWriter\u001b[0m\u001b[0;34m(\u001b[0m\u001b[0mdatacsv\u001b[0m\u001b[0;34m,\u001b[0m \u001b[0mfieldnames\u001b[0m\u001b[0;34m=\u001b[0m\u001b[0mheader_names\u001b[0m\u001b[0;34m)\u001b[0m\u001b[0;34m\u001b[0m\u001b[0;34m\u001b[0m\u001b[0m\n",
      "\u001b[0;31mFileNotFoundError\u001b[0m: [Errno 2] No such file or directory: 'datasets/tutorial017-data.csv'"
     ]
    }
   ],
   "source": [
    "import numpy as np \n",
    "import csv\n",
    "import random\n",
    "\n",
    "n_rows = 20  # number of rows in an experimental file\n",
    "condition_types = ['Male Mutant','Female Mutant',\n",
    "               'Male Wild Type', 'Female  Wild Type']\n",
    "orig_condition_types = ['Male Mutant','Female Mutant',\n",
    "               'Male Wild Type', 'Female  Wild Type']\n",
    "\n",
    "header_names = ['Data','Trial Type']\n",
    "\n",
    "with open('datasets/tutorial017-data.csv','w',newline='') as datacsv:\n",
    "    # Open and start writing into the CSV file object \n",
    "    csv_obj = csv.DictWriter(datacsv, fieldnames=header_names)\n",
    "    csv_obj.writeheader() # write the header to the CSV file \n",
    "                          # (default does not)\n",
    "    \n",
    "    for i in np.linspace(0, n_rows, n_rows) :\n",
    "        random.shuffle(condition_types) \n",
    "        for j in condition_types :\n",
    "              # Define the type of trial\n",
    "            if j == orig_condition_types[0] :\n",
    "                mu = 5\n",
    "                sd = 1\n",
    "                \n",
    "            elif j == orig_condition_types[1] :\n",
    "                mu = 6\n",
    "                sd = 1\n",
    "\n",
    "            elif j == orig_condition_types[2] :\n",
    "                mu = 10\n",
    "                sd = 2\n",
    "\n",
    "            elif j == orig_condition_types[3] :\n",
    "                mu = 10\n",
    "                sd = 2\n",
    "            else :\n",
    "                print('Error in data generation!')    \n",
    "\n",
    "        # Generate the data\n",
    "        datapoint = mu + sd * np.random.randn()\n",
    "        #print(j)\n",
    "        #datapoint\n",
    "        csv_obj.writerow({'Data':datapoint,'Trial Type':j})"
   ]
  },
  {
   "cell_type": "code",
   "execution_count": null,
   "id": "e8ace48c",
   "metadata": {},
   "outputs": [],
   "source": []
  }
 ],
 "metadata": {
  "kernelspec": {
   "display_name": "Python 3 (ipykernel)",
   "language": "python",
   "name": "python3"
  },
  "language_info": {
   "codemirror_mode": {
    "name": "ipython",
    "version": 3
   },
   "file_extension": ".py",
   "mimetype": "text/x-python",
   "name": "python",
   "nbconvert_exporter": "python",
   "pygments_lexer": "ipython3",
   "version": "3.9.7"
  }
 },
 "nbformat": 4,
 "nbformat_minor": 5
}
