{
 "cells": [
  {
   "cell_type": "markdown",
   "id": "096d519d",
   "metadata": {},
   "source": [
    "### 008 DataMaker"
   ]
  },
  {
   "cell_type": "markdown",
   "id": "fff2adae",
   "metadata": {},
   "source": [
    "This is a notebook to make a data sets for the 008 relationship plots for the tutorial and the in-class exercise. It makes:"
   ]
  },
  {
   "cell_type": "markdown",
   "id": "96588b5a",
   "metadata": {},
   "source": [
    "#### two related numeric variables\n",
    "\n",
    "* linear relationship for tutorial\n",
    "* non-linear \" \" \"\n",
    "* linear for exercise\n",
    "* non-lin for exercise"
   ]
  },
  {
   "cell_type": "code",
   "execution_count": 2,
   "id": "10ecc3ed",
   "metadata": {},
   "outputs": [],
   "source": [
    "import numpy as np\n",
    "import pandas as pd\n",
    "import matplotlib.pyplot as plt\n",
    "import seaborn as sns"
   ]
  },
  {
   "cell_type": "markdown",
   "id": "9eaf1022",
   "metadata": {},
   "source": [
    "#### Data for tutorial"
   ]
  },
  {
   "cell_type": "markdown",
   "id": "98b8fcad",
   "metadata": {},
   "source": [
    "Specity whatever filenames you want:"
   ]
  },
  {
   "cell_type": "code",
   "execution_count": 75,
   "id": "13a8d74a",
   "metadata": {},
   "outputs": [],
   "source": [
    "fname1 = \"008TutorialDataFile1.csv\" # linear, linear x\n",
    "fname2 = \"008TutorialDataFile2.csv\" # correlated, Gaussian x\n",
    "fname3 = \"008TutorialDataFile3.csv\" # x^2 term, linear x"
   ]
  },
  {
   "cell_type": "markdown",
   "id": "6ff8ea70",
   "metadata": {},
   "source": [
    "### Make some linearly related data."
   ]
  },
  {
   "cell_type": "markdown",
   "id": "f681ce78",
   "metadata": {},
   "source": [
    "Define size of data."
   ]
  },
  {
   "cell_type": "code",
   "execution_count": 76,
   "id": "1a6f081b",
   "metadata": {},
   "outputs": [],
   "source": [
    "n = 100 # number of observations\n",
    "nv = 2  # number of variables\n",
    "xmin = 0 # minimum x value\n",
    "xmax = 100"
   ]
  },
  {
   "cell_type": "markdown",
   "id": "69081f4a",
   "metadata": {},
   "source": [
    "#### Make the numerical data (i.e. the measurements)."
   ]
  },
  {
   "cell_type": "markdown",
   "id": "e65d39f6",
   "metadata": {},
   "source": [
    "##### First the x axis. \n",
    "It turns out that np.linspace() and np.arange() produce \"vectors\" **not** 1xn or nx1 arrays. **And** you cannot then concatenate or multiply it with an array; numpy won't coerce it into having a second dimension like MATLAB does. You have to explicitly add the dimension of length one. This took me over two agonizing and frustating hours to work out."
   ]
  },
  {
   "cell_type": "code",
   "execution_count": 94,
   "id": "df9eb522",
   "metadata": {},
   "outputs": [],
   "source": [
    "x = np.linspace(xmin, xmax, n)\n",
    "x = x[:, np.newaxis] # makes a [n,1] array from a dimensionless vector"
   ]
  },
  {
   "cell_type": "markdown",
   "id": "afc52bf7",
   "metadata": {},
   "source": [
    "##### Now the y values"
   ]
  },
  {
   "cell_type": "code",
   "execution_count": 102,
   "id": "955e8c24",
   "metadata": {},
   "outputs": [],
   "source": [
    "m = 4.2\n",
    "b = 250\n",
    "noysAmp = 42\n",
    "noys = noysAmp*np.random.randn(n, 1)\n",
    "y = b + m*x + noys "
   ]
  },
  {
   "cell_type": "markdown",
   "id": "0e6aba38",
   "metadata": {},
   "source": [
    "##### Concatenate into nx2 ndarray"
   ]
  },
  {
   "cell_type": "code",
   "execution_count": 103,
   "id": "03ea4803",
   "metadata": {},
   "outputs": [
    {
     "data": {
      "text/plain": [
       "(200, 2)"
      ]
     },
     "execution_count": 103,
     "metadata": {},
     "output_type": "execute_result"
    }
   ],
   "source": [
    "myData = np.hstack((x,y))\n",
    "np.shape(myData)"
   ]
  },
  {
   "cell_type": "markdown",
   "id": "a5d596ce",
   "metadata": {},
   "source": [
    "##### Convert the numpy array into a pandas data frame:"
   ]
  },
  {
   "cell_type": "code",
   "execution_count": 104,
   "id": "d67231be",
   "metadata": {},
   "outputs": [
    {
     "data": {
      "text/plain": [
       "<AxesSubplot:xlabel='X', ylabel='Y'>"
      ]
     },
     "execution_count": 104,
     "metadata": {},
     "output_type": "execute_result"
    },
    {
     "data": {
      "image/png": "[encoded data removed]",
      "text/plain": [
       "<Figure size 432x288 with 1 Axes>"
      ]
     },
     "metadata": {
      "needs_background": "light"
     },
     "output_type": "display_data"
    }
   ],
   "source": [
    "myDataFr = pd.DataFrame(myData, columns=[\"X\", \"Y\"])\n",
    "myDataFr.plot(x=\"X\", y=\"Y\", kind=\"scatter\")"
   ]
  },
  {
   "cell_type": "markdown",
   "id": "2bd262e7",
   "metadata": {},
   "source": [
    "Save the data frame to a .csv (comma separated values) file:"
   ]
  },
  {
   "cell_type": "code",
   "execution_count": 98,
   "id": "86cf71af",
   "metadata": {},
   "outputs": [],
   "source": [
    "myDataFr.to_csv(fname1, index=False)"
   ]
  },
  {
   "cell_type": "markdown",
   "id": "7cae7d2b",
   "metadata": {},
   "source": [
    "### Make some correlated data"
   ]
  },
  {
   "cell_type": "markdown",
   "id": "cc093ec1",
   "metadata": {},
   "source": [
    "Define size of data."
   ]
  },
  {
   "cell_type": "code",
   "execution_count": 82,
   "id": "d5aac36f",
   "metadata": {},
   "outputs": [],
   "source": [
    "n = 100 # number of observations\n",
    "nv = 2  # number of variables"
   ]
  },
  {
   "cell_type": "markdown",
   "id": "69081f4a",
   "metadata": {},
   "source": [
    "#### Make the numerical data (i.e. the measurements)."
   ]
  },
  {
   "cell_type": "markdown",
   "id": "e65d39f6",
   "metadata": {},
   "source": [
    "##### First the x axis. \n"
   ]
  },
  {
   "cell_type": "code",
   "execution_count": 83,
   "id": "df9eb522",
   "metadata": {},
   "outputs": [],
   "source": [
    "xOff = 5\n",
    "xScl = 1\n",
    "x = xOff + xScl*np.random.randn(n, 1)"
   ]
  },
  {
   "cell_type": "markdown",
   "id": "afc52bf7",
   "metadata": {},
   "source": [
    "##### Now the y values"
   ]
  },
  {
   "cell_type": "code",
   "execution_count": 84,
   "id": "955e8c24",
   "metadata": {},
   "outputs": [],
   "source": [
    "yOff = 5\n",
    "yScl = 1\n",
    "xyr = 0.42\n",
    "y = yOff + yScl*np.random.randn(n, 1)\n",
    "y = (1-xyr)*np.random.randn(n, 1) + (xyr)*x "
   ]
  },
  {
   "cell_type": "markdown",
   "id": "0e6aba38",
   "metadata": {},
   "source": [
    "##### Concatenate into nx2 ndarray"
   ]
  },
  {
   "cell_type": "code",
   "execution_count": 85,
   "id": "03ea4803",
   "metadata": {},
   "outputs": [
    {
     "data": {
      "text/plain": [
       "(100, 2)"
      ]
     },
     "execution_count": 85,
     "metadata": {},
     "output_type": "execute_result"
    }
   ],
   "source": [
    "myData = np.hstack((x,y))\n",
    "np.shape(myData)"
   ]
  },
  {
   "cell_type": "markdown",
   "id": "a5d596ce",
   "metadata": {},
   "source": [
    "##### Convert the numpy array into a pandas data frame:"
   ]
  },
  {
   "cell_type": "code",
   "execution_count": 86,
   "id": "d67231be",
   "metadata": {},
   "outputs": [
    {
     "data": {
      "text/plain": [
       "<AxesSubplot:xlabel='X', ylabel='Y'>"
      ]
     },
     "execution_count": 86,
     "metadata": {},
     "output_type": "execute_result"
    },
    {
     "data": {
      "image/png": "[encoded data removed]",
      "text/plain": [
       "<Figure size 432x288 with 1 Axes>"
      ]
     },
     "metadata": {
      "needs_background": "light"
     },
     "output_type": "display_data"
    }
   ],
   "source": [
    "myDataFr = pd.DataFrame(myData, columns=[\"X\", \"Y\"])\n",
    "myDataFr.plot(x=\"X\", y=\"Y\", kind=\"scatter\")"
   ]
  },
  {
   "cell_type": "markdown",
   "id": "2bd262e7",
   "metadata": {},
   "source": [
    "Save the data frame to a .csv (comma separated values) file:"
   ]
  },
  {
   "cell_type": "code",
   "execution_count": 87,
   "id": "86cf71af",
   "metadata": {},
   "outputs": [],
   "source": [
    "myDataFr.to_csv(fname2, index=False)"
   ]
  },
  {
   "cell_type": "markdown",
   "id": "292f550e",
   "metadata": {},
   "source": [
    "### Nonlinear data"
   ]
  },
  {
   "cell_type": "markdown",
   "id": "593e7564",
   "metadata": {},
   "source": []
  },
  {
   "cell_type": "markdown",
   "id": "f681ce78",
   "metadata": {},
   "source": [
    "Define size of data."
   ]
  },
  {
   "cell_type": "code",
   "execution_count": 88,
   "id": "1a6f081b",
   "metadata": {},
   "outputs": [],
   "source": [
    "n = 200 # number of observations\n",
    "nv = 2  # number of variables\n",
    "xmin = 0.1 # minimum x value\n",
    "xmax = 42"
   ]
  },
  {
   "cell_type": "markdown",
   "id": "69081f4a",
   "metadata": {},
   "source": [
    "#### Make the numerical data (i.e. the measurements)."
   ]
  },
  {
   "cell_type": "markdown",
   "id": "e65d39f6",
   "metadata": {},
   "source": [
    "##### First the x axis. \n",
    "It turns out that np.linspace() and np.arange() produce \"vectors\" **not** 1xn or nx1 arrays. **And** you cannot then concatenate or multiply it with an array; numpy won't coerce it into having a second dimension like MATLAB does. You have to explicitly add the dimension of length one. This took me over two agonizing and frustating hours to work out."
   ]
  },
  {
   "cell_type": "code",
   "execution_count": 89,
   "id": "df9eb522",
   "metadata": {},
   "outputs": [],
   "source": [
    "x = np.linspace(xmin, xmax, n)\n",
    "x = x[:, np.newaxis] # makes a [n,1] array from a dimensionless vector"
   ]
  },
  {
   "cell_type": "markdown",
   "id": "afc52bf7",
   "metadata": {},
   "source": [
    "##### Now the y values"
   ]
  },
  {
   "cell_type": "code",
   "execution_count": 90,
   "id": "955e8c24",
   "metadata": {},
   "outputs": [],
   "source": [
    "# params\n",
    "a, b, c = 10, 0, 0.7\n",
    "# noise\n",
    "noysAmp = 100\n",
    "noys = noysAmp*np.random.randn(n, 1)\n",
    "# y\n",
    "y = a + b*x + c*(x**2) + noys "
   ]
  },
  {
   "cell_type": "markdown",
   "id": "0e6aba38",
   "metadata": {},
   "source": [
    "##### Concatenate into nx2 ndarray"
   ]
  },
  {
   "cell_type": "code",
   "execution_count": 91,
   "id": "03ea4803",
   "metadata": {},
   "outputs": [
    {
     "data": {
      "text/plain": [
       "(200, 2)"
      ]
     },
     "execution_count": 91,
     "metadata": {},
     "output_type": "execute_result"
    }
   ],
   "source": [
    "myData = np.hstack((x,y))\n",
    "np.shape(myData)"
   ]
  },
  {
   "cell_type": "markdown",
   "id": "a5d596ce",
   "metadata": {},
   "source": [
    "##### Convert the numpy array into a pandas data frame:"
   ]
  },
  {
   "cell_type": "code",
   "execution_count": 92,
   "id": "d67231be",
   "metadata": {},
   "outputs": [
    {
     "data": {
      "text/plain": [
       "<AxesSubplot:xlabel='X', ylabel='Y'>"
      ]
     },
     "execution_count": 92,
     "metadata": {},
     "output_type": "execute_result"
    },
    {
     "data": {
      "image/png": "[encoded data removed]",
      "text/plain": [
       "<Figure size 432x288 with 1 Axes>"
      ]
     },
     "metadata": {
      "needs_background": "light"
     },
     "output_type": "display_data"
    }
   ],
   "source": [
    "myDataFr = pd.DataFrame(myData, columns=[\"X\", \"Y\"])\n",
    "myDataFr.plot(x=\"X\", y=\"Y\", kind=\"scatter\")"
   ]
  },
  {
   "cell_type": "markdown",
   "id": "2bd262e7",
   "metadata": {},
   "source": [
    "Save the data frame to a .csv (comma separated values) file:"
   ]
  },
  {
   "cell_type": "code",
   "execution_count": 93,
   "id": "86cf71af",
   "metadata": {},
   "outputs": [],
   "source": [
    "myDataFr.to_csv(fname3, index=False)"
   ]
  },
  {
   "cell_type": "markdown",
   "id": "cd6d274f",
   "metadata": {},
   "source": [
    "#### Data for in-class exercise"
   ]
  },
  {
   "cell_type": "code",
   "execution_count": 1,
   "id": "88d6370c",
   "metadata": {},
   "outputs": [],
   "source": [
    "fname=\"008ExerciseFile.csv\""
   ]
  },
  {
   "cell_type": "code",
   "execution_count": 3,
   "id": "00c5de0a",
   "metadata": {},
   "outputs": [],
   "source": [
    "n = 100 # number of observations\n",
    "nv = 2  # number of variables\n",
    "xmin = -10 # minimum x value\n",
    "xmax = 10"
   ]
  },
  {
   "cell_type": "code",
   "execution_count": 4,
   "id": "4216115e",
   "metadata": {},
   "outputs": [],
   "source": [
    "x = np.linspace(xmin, xmax, n)\n",
    "x = x[:, np.newaxis] # makes a [n,1] array from a dimensionless vector"
   ]
  },
  {
   "cell_type": "code",
   "execution_count": 33,
   "id": "5da1bb51",
   "metadata": {},
   "outputs": [],
   "source": [
    "# poly params\n",
    "a, b, c, d = 100, -50, 1.5, 0.5\n",
    "# noise\n",
    "noysAmp = 50\n",
    "noys = noysAmp*np.random.randn(n, 1)\n",
    "# y\n",
    "y = a + b*x + c*(x**2) + d*(x**3) + noys "
   ]
  },
  {
   "cell_type": "code",
   "execution_count": 34,
   "id": "e91ba227",
   "metadata": {},
   "outputs": [
    {
     "data": {
      "text/plain": [
       "(100, 2)"
      ]
     },
     "execution_count": 34,
     "metadata": {},
     "output_type": "execute_result"
    }
   ],
   "source": [
    "myData = np.hstack((x,y))\n",
    "np.shape(myData)"
   ]
  },
  {
   "cell_type": "code",
   "execution_count": 37,
   "id": "0deb46f0",
   "metadata": {},
   "outputs": [
    {
     "data": {
      "text/plain": [
       "<AxesSubplot:xlabel='rel_time', ylabel='m_level'>"
      ]
     },
     "execution_count": 37,
     "metadata": {},
     "output_type": "execute_result"
    },
    {
     "data": {
      "image/png": "[encoded data removed]",
      "text/plain": [
       "<Figure size 432x288 with 1 Axes>"
      ]
     },
     "metadata": {
      "needs_background": "light"
     },
     "output_type": "display_data"
    }
   ],
   "source": [
    "myDataFr = pd.DataFrame(myData, columns=[\"rel_time\", \"m_level\"])\n",
    "myDataFr.plot(x=\"rel_time\", y=\"m_level\", kind=\"scatter\")"
   ]
  },
  {
   "cell_type": "code",
   "execution_count": 38,
   "id": "04eea394",
   "metadata": {},
   "outputs": [],
   "source": [
    "myDataFr.to_csv(fname, index=False)"
   ]
  },
  {
   "cell_type": "code",
   "execution_count": null,
   "id": "1cefb2ec",
   "metadata": {},
   "outputs": [],
   "source": []
  }
 ],
 "metadata": {
  "kernelspec": {
   "display_name": "Python 3 (ipykernel)",
   "language": "python",
   "name": "python3"
  },
  "language_info": {
   "codemirror_mode": {
    "name": "ipython",
    "version": 3
   },
   "file_extension": ".py",
   "mimetype": "text/x-python",
   "name": "python",
   "nbconvert_exporter": "python",
   "pygments_lexer": "ipython3",
   "version": "3.9.7"
  }
 },
 "nbformat": 4,
 "nbformat_minor": 5
}
