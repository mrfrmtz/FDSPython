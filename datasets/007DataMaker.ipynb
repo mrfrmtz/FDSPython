{
 "cells": [
  {
   "cell_type": "markdown",
   "id": "096d519d",
   "metadata": {},
   "source": [
    "### 007 DataMaker"
   ]
  },
  {
   "cell_type": "code",
   "execution_count": null,
   "id": "d9bd7fdd",
   "metadata": {},
   "outputs": [],
   "source": []
  },
  {
   "cell_type": "markdown",
   "id": "fff2adae",
   "metadata": {},
   "source": [
    "This is a notebook to make a data set for the 007 distribution plots for the tutorial and the in-class exercise. It makes:"
   ]
  },
  {
   "cell_type": "markdown",
   "id": "96588b5a",
   "metadata": {},
   "source": [
    "#### One numeric variable with one grouping variable"
   ]
  },
  {
   "cell_type": "code",
   "execution_count": 14,
   "id": "10ecc3ed",
   "metadata": {},
   "outputs": [],
   "source": [
    "import numpy as np\n",
    "import pandas as pd\n",
    "import matplotlib.pyplot as plt\n",
    "import seaborn as sns"
   ]
  },
  {
   "cell_type": "markdown",
   "id": "9eaf1022",
   "metadata": {},
   "source": [
    "#### Data for tutorial"
   ]
  },
  {
   "cell_type": "markdown",
   "id": "98b8fcad",
   "metadata": {},
   "source": [
    "Specity whatever filename you want:"
   ]
  },
  {
   "cell_type": "code",
   "execution_count": 35,
   "id": "13a8d74a",
   "metadata": {},
   "outputs": [],
   "source": [
    "fname = \"007DataFile.csv\""
   ]
  },
  {
   "cell_type": "markdown",
   "id": "6ff8ea70",
   "metadata": {},
   "source": [
    "#### Make some \"tidy\" data, in which a column codes groups:"
   ]
  },
  {
   "cell_type": "markdown",
   "id": "f681ce78",
   "metadata": {},
   "source": [
    "Define size of data."
   ]
  },
  {
   "cell_type": "code",
   "execution_count": 2,
   "id": "1a6f081b",
   "metadata": {},
   "outputs": [],
   "source": [
    "n = 100 # number of observations\n",
    "nv = 2  # number of variables"
   ]
  },
  {
   "cell_type": "markdown",
   "id": "69081f4a",
   "metadata": {},
   "source": [
    "Make the numerical data (i.e. the measurements)."
   ]
  },
  {
   "cell_type": "code",
   "execution_count": 3,
   "id": "955e8c24",
   "metadata": {},
   "outputs": [],
   "source": [
    "myDataA = np.random.randn(n, 1)\n",
    "myDataB = 1 + 1.5*np.random.randn(n, 1) # give one var a higher mean and sd"
   ]
  },
  {
   "cell_type": "markdown",
   "id": "644405fa",
   "metadata": {},
   "source": [
    "Make the group (condition, whatever) labels."
   ]
  },
  {
   "cell_type": "code",
   "execution_count": 4,
   "id": "6a8d8ece",
   "metadata": {},
   "outputs": [],
   "source": [
    "a = np.array([\"A\"])\n",
    "a = np.tile(a, (n,1))\n",
    "b = np.array([\"B\"])\n",
    "b = np.tile(b, (n,1))"
   ]
  },
  {
   "cell_type": "markdown",
   "id": "b2c1a604",
   "metadata": {},
   "source": [
    "Concatenate the data into \"tidy\" form."
   ]
  },
  {
   "cell_type": "code",
   "execution_count": 5,
   "id": "03ea4803",
   "metadata": {},
   "outputs": [],
   "source": [
    "measurements = np.vstack((myDataA,myDataB))\n",
    "groups = np.vstack((a,b))\n",
    "myData = np.hstack((groups, measurements))"
   ]
  },
  {
   "cell_type": "markdown",
   "id": "2f4a42e8",
   "metadata": {},
   "source": [
    "Look at what we're going to put in the file:"
   ]
  },
  {
   "cell_type": "code",
   "execution_count": 6,
   "id": "155c5b98",
   "metadata": {},
   "outputs": [
    {
     "data": {
      "text/plain": [
       "(200, 2)"
      ]
     },
     "execution_count": 6,
     "metadata": {},
     "output_type": "execute_result"
    }
   ],
   "source": [
    "np.shape(myData)"
   ]
  },
  {
   "cell_type": "markdown",
   "id": "a5d596ce",
   "metadata": {},
   "source": [
    "Now make the numpy array into a pandas data frame:"
   ]
  },
  {
   "cell_type": "code",
   "execution_count": 7,
   "id": "d67231be",
   "metadata": {},
   "outputs": [],
   "source": [
    "myDataFr = pd.DataFrame(myData, columns=[\"Group\", \"Value\"])"
   ]
  },
  {
   "cell_type": "markdown",
   "id": "2bd262e7",
   "metadata": {},
   "source": [
    "Save the data frame to a .csv (comma separated values) file:"
   ]
  },
  {
   "cell_type": "code",
   "execution_count": 8,
   "id": "86cf71af",
   "metadata": {},
   "outputs": [],
   "source": [
    "myDataFr.to_csv(fname, index=False)"
   ]
  },
  {
   "cell_type": "markdown",
   "id": "cd6d274f",
   "metadata": {},
   "source": [
    "#### Data for in-class exercise"
   ]
  },
  {
   "cell_type": "code",
   "execution_count": 3,
   "id": "4b47c10b",
   "metadata": {},
   "outputs": [],
   "source": [
    "fname = \"007ExerciseFile.csv\""
   ]
  },
  {
   "cell_type": "markdown",
   "id": "72fb8a30",
   "metadata": {},
   "source": [
    "These data will have 4 groups instead of 2 for giggles."
   ]
  },
  {
   "cell_type": "markdown",
   "id": "b8750505",
   "metadata": {},
   "source": [
    "Define size of data."
   ]
  },
  {
   "cell_type": "code",
   "execution_count": 4,
   "id": "2e816a69",
   "metadata": {},
   "outputs": [],
   "source": [
    "n = 42 # number of observations\n",
    "nv = 2  # number of variables"
   ]
  },
  {
   "cell_type": "markdown",
   "id": "8713fbe9",
   "metadata": {},
   "source": [
    "Make the numerical data (i.e. the measurements)."
   ]
  },
  {
   "cell_type": "code",
   "execution_count": 5,
   "id": "d2d06788",
   "metadata": {},
   "outputs": [],
   "source": [
    "myDataA = 10 + 1.5*np.random.randn(n, 1)\n",
    "myDataB = 5 + 1.2*np.random.randn(n, 1) # give vars different means and sds\n",
    "myDataC = 1 + 0.2*np.random.randn(n, 1)\n",
    "myDataD = 2 + 0.5*np.random.randn(n, 1)"
   ]
  },
  {
   "cell_type": "markdown",
   "id": "9d28e17c",
   "metadata": {},
   "source": [
    "Make the group (condition, whatever) labels."
   ]
  },
  {
   "cell_type": "code",
   "execution_count": 6,
   "id": "e9eedfe5",
   "metadata": {},
   "outputs": [],
   "source": [
    "a = np.array([\"st_alpha\"])\n",
    "a = np.tile(a, (n,1))\n",
    "b = np.array([\"st_beta\"])\n",
    "b = np.tile(b, (n,1))\n",
    "c = np.array([\"st_gamma\"])\n",
    "c = np.tile(c, (n,1))\n",
    "d = np.array([\"st_delta\"])\n",
    "d = np.tile(d, (n,1))"
   ]
  },
  {
   "cell_type": "markdown",
   "id": "9a3ba768",
   "metadata": {},
   "source": [
    "Concatenate the data into \"tidy\" form."
   ]
  },
  {
   "cell_type": "code",
   "execution_count": 7,
   "id": "e4daf01a",
   "metadata": {},
   "outputs": [],
   "source": [
    "measurements = np.vstack((myDataA,myDataB,myDataC,myDataD))\n",
    "groups = np.vstack((a,b,c,d))\n",
    "myData = np.hstack((groups, measurements))"
   ]
  },
  {
   "cell_type": "markdown",
   "id": "24704e54",
   "metadata": {},
   "source": [
    "Look at what we're going to put in the file:"
   ]
  },
  {
   "cell_type": "code",
   "execution_count": 8,
   "id": "b9beae4f",
   "metadata": {},
   "outputs": [
    {
     "data": {
      "text/plain": [
       "(168, 2)"
      ]
     },
     "execution_count": 8,
     "metadata": {},
     "output_type": "execute_result"
    }
   ],
   "source": [
    "np.shape(myData)"
   ]
  },
  {
   "cell_type": "markdown",
   "id": "3ffb32a3",
   "metadata": {},
   "source": [
    "Now make the numpy array into a pandas data frame:"
   ]
  },
  {
   "cell_type": "code",
   "execution_count": 10,
   "id": "9a91af5e",
   "metadata": {},
   "outputs": [],
   "source": [
    "myDataFr = pd.DataFrame(myData, columns=[\"Strain\", \"Mutation_rate\"])"
   ]
  },
  {
   "cell_type": "markdown",
   "id": "0e06ecdd",
   "metadata": {},
   "source": [
    "Save the data frame to a .csv (comma separated values) file:"
   ]
  },
  {
   "cell_type": "code",
   "execution_count": 11,
   "id": "9fb76cb5",
   "metadata": {},
   "outputs": [],
   "source": [
    "myDataFr.to_csv(fname, index=False)"
   ]
  },
  {
   "cell_type": "markdown",
   "id": "b21584c2",
   "metadata": {},
   "source": [
    "### Now check that the file is okay"
   ]
  },
  {
   "cell_type": "code",
   "execution_count": 12,
   "id": "ffc572a8",
   "metadata": {},
   "outputs": [],
   "source": [
    "mydf = pd.read_csv(fname)"
   ]
  },
  {
   "cell_type": "code",
   "execution_count": 13,
   "id": "4b4e7109",
   "metadata": {},
   "outputs": [
    {
     "data": {
      "text/plain": [
       "st_alpha         AxesSubplot(0.1,0.559091;0.363636x0.340909)\n",
       "st_beta     AxesSubplot(0.536364,0.559091;0.363636x0.340909)\n",
       "st_delta             AxesSubplot(0.1,0.15;0.363636x0.340909)\n",
       "st_gamma        AxesSubplot(0.536364,0.15;0.363636x0.340909)\n",
       "dtype: object"
      ]
     },
     "execution_count": 13,
     "metadata": {},
     "output_type": "execute_result"
    },
    {
     "data": {
      "image/png": "[encoded data removed]",
      "text/plain": [
       "<Figure size 432x288 with 4 Axes>"
      ]
     },
     "metadata": {
      "needs_background": "light"
     },
     "output_type": "display_data"
    }
   ],
   "source": [
    "mydf.groupby(\"Strain\").boxplot()"
   ]
  },
  {
   "cell_type": "code",
   "execution_count": 16,
   "id": "393ad255",
   "metadata": {},
   "outputs": [
    {
     "data": {
      "text/plain": [
       "<seaborn.axisgrid.FacetGrid at 0x7f83c0df0e20>"
      ]
     },
     "execution_count": 16,
     "metadata": {},
     "output_type": "execute_result"
    },
    {
     "data": {
      "image/png": "[encoded data removed]",
      "text/plain": [
       "<Figure size 448x360 with 1 Axes>"
      ]
     },
     "metadata": {
      "needs_background": "light"
     },
     "output_type": "display_data"
    }
   ],
   "source": [
    "sns.displot(mydf, x=\"Mutation_rate\", hue=\"Strain\", kind=\"kde\", fill=True, alpha=0.2)"
   ]
  },
  {
   "cell_type": "code",
   "execution_count": 18,
   "id": "9e48a5b1",
   "metadata": {},
   "outputs": [
    {
     "data": {
      "text/plain": [
       "<AxesSubplot:xlabel='Strain', ylabel='Mutation_rate'>"
      ]
     },
     "execution_count": 18,
     "metadata": {},
     "output_type": "execute_result"
    },
    {
     "data": {
      "image/png": "[encoded data removed]",
      "text/plain": [
       "<Figure size 432x288 with 1 Axes>"
      ]
     },
     "metadata": {
      "needs_background": "light"
     },
     "output_type": "display_data"
    }
   ],
   "source": [
    "sns.boxplot(data=mydf, x=\"Strain\", y=\"Mutation_rate\")\n",
    "sns.stripplot(data=mydf, x=\"Strain\", y=\"Mutation_rate\", alpha = 0.42)"
   ]
  },
  {
   "cell_type": "code",
   "execution_count": null,
   "id": "7159bd92",
   "metadata": {},
   "outputs": [],
   "source": []
  }
 ],
 "metadata": {
  "kernelspec": {
   "display_name": "Python 3 (ipykernel)",
   "language": "python",
   "name": "python3"
  },
  "language_info": {
   "codemirror_mode": {
    "name": "ipython",
    "version": 3
   },
   "file_extension": ".py",
   "mimetype": "text/x-python",
   "name": "python",
   "nbconvert_exporter": "python",
   "pygments_lexer": "ipython3",
   "version": "3.8.8"
  }
 },
 "nbformat": 4,
 "nbformat_minor": 5
}
