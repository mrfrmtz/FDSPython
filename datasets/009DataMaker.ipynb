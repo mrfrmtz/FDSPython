{
 "cells": [
  {
   "cell_type": "markdown",
   "id": "20ccf03d",
   "metadata": {},
   "source": [
    "## Data Maker for tutorial 009 in-class Exercise - data wrangling preliminaries"
   ]
  },
  {
   "cell_type": "code",
   "execution_count": null,
   "id": "d96c696f",
   "metadata": {},
   "outputs": [],
   "source": [
    "import numpy as np"
   ]
  },
  {
   "cell_type": "markdown",
   "id": "63c50bc8",
   "metadata": {},
   "source": [
    "#### Make a first data array to play with"
   ]
  },
  {
   "cell_type": "code",
   "execution_count": null,
   "id": "1ae903cc",
   "metadata": {},
   "outputs": [],
   "source": [
    "a = np.arange(1., 11.)[:, np.newaxis]"
   ]
  },
  {
   "cell_type": "code",
   "execution_count": null,
   "id": "eac58239",
   "metadata": {},
   "outputs": [],
   "source": [
    "a.shape"
   ]
  },
  {
   "cell_type": "code",
   "execution_count": null,
   "id": "d98a3eef",
   "metadata": {},
   "outputs": [],
   "source": [
    "a = np.tile(a, (1, 10))"
   ]
  },
  {
   "cell_type": "code",
   "execution_count": null,
   "id": "7c884001",
   "metadata": {},
   "outputs": [],
   "source": [
    "b = np.arange(1., 11.)[np.newaxis, :]"
   ]
  },
  {
   "cell_type": "code",
   "execution_count": null,
   "id": "ed4d2060",
   "metadata": {},
   "outputs": [],
   "source": [
    "b = np.tile(b, (10, 1))"
   ]
  },
  {
   "cell_type": "code",
   "execution_count": null,
   "id": "c1b545d7",
   "metadata": {},
   "outputs": [],
   "source": [
    "a = a*b"
   ]
  },
  {
   "cell_type": "code",
   "execution_count": null,
   "id": "a9a94b63",
   "metadata": {},
   "outputs": [],
   "source": [
    "np.save(\"Ex009File1.npy\", a)"
   ]
  },
  {
   "cell_type": "markdown",
   "id": "75e2bd34",
   "metadata": {},
   "source": [
    "#### Make a big array with some structure to play with"
   ]
  },
  {
   "cell_type": "code",
   "execution_count": null,
   "id": "ba177e10",
   "metadata": {},
   "outputs": [],
   "source": [
    "import numpy as np\n",
    "import matplotlib.pyplot as plt"
   ]
  },
  {
   "cell_type": "code",
   "execution_count": null,
   "id": "83814b12",
   "metadata": {},
   "outputs": [],
   "source": [
    "a = np.random.randn(200, 50)"
   ]
  },
  {
   "cell_type": "code",
   "execution_count": null,
   "id": "a8a7e27f",
   "metadata": {},
   "outputs": [],
   "source": [
    "a.shape"
   ]
  },
  {
   "cell_type": "code",
   "execution_count": null,
   "id": "ccc2e944",
   "metadata": {},
   "outputs": [],
   "source": [
    "b = np.zeros(a.shape)"
   ]
  },
  {
   "cell_type": "code",
   "execution_count": null,
   "id": "1b2b90b3",
   "metadata": {},
   "outputs": [],
   "source": [
    "b.shape"
   ]
  },
  {
   "cell_type": "code",
   "execution_count": null,
   "id": "afc5afd5",
   "metadata": {},
   "outputs": [],
   "source": [
    "b[20:42, :] = np.ones((22, 50))\n",
    "b[125:150, :] = np.ones((25, 50))"
   ]
  },
  {
   "cell_type": "code",
   "execution_count": null,
   "id": "d475d5d1",
   "metadata": {},
   "outputs": [],
   "source": [
    "plt.imshow(b)"
   ]
  },
  {
   "cell_type": "code",
   "execution_count": null,
   "id": "8f7d1eec",
   "metadata": {},
   "outputs": [],
   "source": [
    "data = a + b"
   ]
  },
  {
   "cell_type": "code",
   "execution_count": null,
   "id": "020d5085",
   "metadata": {},
   "outputs": [],
   "source": [
    "plt.imshow(data)"
   ]
  },
  {
   "cell_type": "code",
   "execution_count": null,
   "id": "a6f8c56c",
   "metadata": {},
   "outputs": [],
   "source": [
    "np.save(\"Ex009File2.npy\", data)"
   ]
  },
  {
   "cell_type": "code",
   "execution_count": null,
   "id": "2590961f",
   "metadata": {},
   "outputs": [],
   "source": []
  }
 ],
 "metadata": {
  "kernelspec": {
   "display_name": "Python 3 (ipykernel)",
   "language": "python",
   "name": "python3"
  },
  "language_info": {
   "codemirror_mode": {
    "name": "ipython",
    "version": 3
   },
   "file_extension": ".py",
   "mimetype": "text/x-python",
   "name": "python",
   "nbconvert_exporter": "python",
   "pygments_lexer": "ipython3",
   "version": "3.9.7"
  }
 },
 "nbformat": 4,
 "nbformat_minor": 5
}
