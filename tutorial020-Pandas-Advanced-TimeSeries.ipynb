{
 "cells": [
  {
   "cell_type": "markdown",
   "id": "c20c36c7",
   "metadata": {},
   "source": [
    "# Time and Date Series in Python and Pandas I"
   ]
  },
  {
   "cell_type": "markdown",
   "id": "480bb1a7",
   "metadata": {},
   "source": [
    "This tutorial will provide an overview of some of the functionality Python, NumPy and Pandas offer to manipulate time series, and date, time objects. The tutorial is meant to be an introduction and it will not be exhaustive in the treatment of the exstensive functionality offered by the python libraries. "
   ]
  },
  {
   "cell_type": "markdown",
   "id": "395b8b1c",
   "metadata": {},
   "source": [
    "#### Learning goals\n",
    "\n",
    "  - `Python` - Date and Time objects\n",
    "  - `NumPy` - Date and Time objects\n",
    "  - `Pandas` - Date and Time objects\n",
    "  \n",
    "#### Prerequisites\n",
    "  - Python and NumPy\n",
    "  - Pandas, DataFrames and Series\n",
    "  \n",
    " ---"
   ]
  },
  {
   "cell_type": "markdown",
   "id": "04c113b9",
   "metadata": {},
   "source": [
    "## Python time and dates"
   ]
  },
  {
   "cell_type": "markdown",
   "id": "087952ac",
   "metadata": {},
   "source": [
    "Python offers a series of core and additional functions dealing with time, time zones, calendars, etc. \n",
    "\n",
    "These modules come standard with Python3. The modules mostly provide access to the Linux/Unix (or Windows) OS time-oriented functionality.\n",
    "\n",
    "| Module Name | Description | Usage |\n",
    "| --- | --- | --- |\n",
    "| [Time](https://docs.python.org/3/library/time.html#module-time) | This module provides various time-related functions. | `import time` |\n",
    "| [datetime](https://docs.python.org/3/library/datetime.html#module-datetime) | This module supplies classes for manipulating dates and times. | `import datetime` |\n",
    "| [Calendar](https://docs.python.org/3/library/calendar.html#module-calendar) | This module allows you to output calendars like the Unix cal program, and provides additional useful functions related to the calendar. | `import calendar` |\n",
    "|[Zoneinfo](https://docs.python.org/3/library/zoneinfo.html#module-zoneinfo) | A time zone implementation interfacing with the system’s time zone data (if available e.g. Unix/Linux; see also [PEP 615](https://peps.python.org/pep-0615/)). | ` import zoneinfo` |\n",
    "\n",
    "Although we will cover some of the functionality in these python modules, an exhustive coverage of the functionality of these python modules is beyond the scope of the current tutorial. That said below the list of modules pertaining with time and date operations and data.\n",
    "\n",
    "---"
   ]
  },
  {
   "cell_type": "markdown",
   "id": "c06c3140",
   "metadata": {},
   "source": [
    "### Python Core Time Objects"
   ]
  },
  {
   "cell_type": "markdown",
   "id": "1bec73b6",
   "metadata": {},
   "source": [
    "The core functionality of time events in Python can be accessed using `time` and `datetime`. \n",
    "\n",
    "For example, we can import `datetime` and access my date of birth we could easily access it (if you were to know the correct one) use syntax as follows:"
   ]
  },
  {
   "cell_type": "code",
   "execution_count": 2,
   "id": "133db23c",
   "metadata": {},
   "outputs": [
    {
     "name": "stdout",
     "output_type": "stream",
     "text": [
      "1985-11-15 11:36:55\n"
     ]
    }
   ],
   "source": [
    "from datetime import datetime\n",
    "\n",
    "my_birthdate = datetime(year=1985, \n",
    "              month=11, \n",
    "              day=15, \n",
    "              hour=11, \n",
    "              minute=36, \n",
    "              second=55)\n",
    "print(my_birthdate)"
   ]
  },
  {
   "cell_type": "markdown",
   "id": "7b62ddba",
   "metadata": {},
   "source": [
    "As you can see above, `datetime` allows addressing years, months, days, etc. just like properties of objects. The output variables are well formatted strings. \n",
    "\n",
    "The months, days, hours and minutes are formatted in ways that we are generally used to, the 'look good'. The formatting used by `datetime` is called [ISO 8601 format](https://en.wikipedia.org/wiki/ISO_8601) (it follows this syntax: `YYYY-MM-DDTHH:MM:SS. mmmmmm`).\n",
    "\n",
    "---"
   ]
  },
  {
   "cell_type": "markdown",
   "id": "936363d5",
   "metadata": {},
   "source": [
    "$\\color{blue}{\\text{Complete the following exercise.}}$\n",
    "\n",
    "  Use the cell below to `print` your own date of birth using the method seen above."
   ]
  },
  {
   "cell_type": "code",
   "execution_count": 3,
   "id": "f802bb13",
   "metadata": {},
   "outputs": [
    {
     "name": "stdout",
     "output_type": "stream",
     "text": [
      "2000-11-20 05:45:30\n"
     ]
    }
   ],
   "source": [
    "mrfr_birthdate = datetime(year = 2000, \n",
    "                         month=11, \n",
    "                         day = 20, \n",
    "                         hour=5, \n",
    "                         minute = 45, \n",
    "                         second=30)\n",
    "print(mrfr_birthdate)"
   ]
  },
  {
   "cell_type": "markdown",
   "id": "a52e1b58",
   "metadata": {},
   "source": [
    "**`time` is also part of python's core functionality.**\n",
    "\n",
    "It provides a more fexible, yet more complex, less object-oriented and less data-science friendly interface. "
   ]
  },
  {
   "cell_type": "markdown",
   "id": "66abac51",
   "metadata": {},
   "source": [
    "For example, if we wanted to get a date and time (say the current time) using `time`, we would need to first import two modules, `gmtime` to get the time and `strftime` to format the time."
   ]
  },
  {
   "cell_type": "markdown",
   "id": "bc4480d8",
   "metadata": {},
   "source": [
    "`gmtime` would allow extracting the information about the current time."
   ]
  },
  {
   "cell_type": "code",
   "execution_count": 4,
   "id": "53d5c3b4",
   "metadata": {},
   "outputs": [
    {
     "data": {
      "text/plain": [
       "time.struct_time(tm_year=2022, tm_mon=12, tm_mday=1, tm_hour=5, tm_min=9, tm_sec=7, tm_wday=3, tm_yday=335, tm_isdst=0)"
      ]
     },
     "execution_count": 4,
     "metadata": {},
     "output_type": "execute_result"
    }
   ],
   "source": [
    "from time import gmtime, strftime\n",
    "gmtime()"
   ]
  },
  {
   "cell_type": "markdown",
   "id": "3a69d54d",
   "metadata": {},
   "source": [
    "As you can appreciate, the output is not nicely formatted. At least not as nicely formatted using the ISO 8601 standard as seen above in the output of `datetime`."
   ]
  },
  {
   "cell_type": "markdown",
   "id": "14ff44fa",
   "metadata": {},
   "source": [
    "We can format the output with some additional work, using `strftime()`. For example, "
   ]
  },
  {
   "cell_type": "code",
   "execution_count": 5,
   "id": "4de09163",
   "metadata": {},
   "outputs": [
    {
     "data": {
      "text/plain": [
       "'Thu, 01 Dec 2022 05:09:07 +0000'"
      ]
     },
     "execution_count": 5,
     "metadata": {},
     "output_type": "execute_result"
    }
   ],
   "source": [
    "strftime(\"%a, %d %b %Y %H:%M:%S +0000\", gmtime())"
   ]
  },
  {
   "cell_type": "markdown",
   "id": "f98d3c6d",
   "metadata": {},
   "source": [
    "The type of the time value sequence returned by `gmtime()`  It is an object with a named tuple interface with following values that can be accessed by index and by attribute name. The following values are present:\n",
    "\n",
    "| Index | Attribute | Values |\n",
    "| --- | --- | --- | \n",
    "| 0 | tm_year | (for example, 1993) |\n",
    "| 1 | tm_mon | range [1, 12] |\n",
    "| 2 | tm_mday | range [1, 31] |\n",
    "| 3 | tm_hour | range [0, 23] |\n",
    "| 4 | tm_min | range [0, 59] |\n",
    "| 5 | tm_sec | range [0, 61]; see (2) in strftime() description |\n",
    "| 6 | tm_wday | range [0, 6], Monday is 0 |\n",
    "| 7 | tm_yday | range [1, 366] |\n",
    "| 8 | tm_isdst | 0, 1 or -1; see below |\n",
    "| N/A | tm_zone | abbreviation of timezone name |\n",
    "| N/A | tm_gmtoff | offset east of UTC in seconds| "
   ]
  },
  {
   "cell_type": "markdown",
   "id": "9f0727b6",
   "metadata": {},
   "source": [
    "$\\color{blue}{\\text{Complete the following exercise.}}$\n",
    "\n",
    " - Try, returning the values into a variable (say `vals`) and access them as previously learned (hint, `vals.<val_name>`):"
   ]
  },
  {
   "cell_type": "code",
   "execution_count": 6,
   "id": "362bb6f3",
   "metadata": {},
   "outputs": [
    {
     "name": "stdout",
     "output_type": "stream",
     "text": [
      "time.struct_time(tm_year=2022, tm_mon=12, tm_mday=1, tm_hour=5, tm_min=9, tm_sec=7, tm_wday=3, tm_yday=335, tm_isdst=0)\n"
     ]
    }
   ],
   "source": [
    "vals = gmtime()\n",
    "print(vals)"
   ]
  },
  {
   "cell_type": "markdown",
   "id": "298d1281",
   "metadata": {},
   "source": [
    "`gmtime()` returns time for `Greenwich Mean Time (GMT)` that is a standard timezone in the UK. Given that Austin, TX is currently in CDT. We could return the current hour in Austin by adding the 5 hours different. \n",
    "\n",
    "For example:"
   ]
  },
  {
   "cell_type": "code",
   "execution_count": 7,
   "id": "024ddc74",
   "metadata": {},
   "outputs": [
    {
     "name": "stdout",
     "output_type": "stream",
     "text": [
      "Time in Greenwhich, UK:  5\n",
      "Time in Austin, TX:  0\n"
     ]
    }
   ],
   "source": [
    "vals = gmtime()\n",
    "\n",
    "theHourInGreenwichUK = vals.tm_hour\n",
    "print('Time in Greenwhich, UK: ', theHourInGreenwichUK)\n",
    "\n",
    "theHourInAustinTX = theHourInGreenwichUK - 5\n",
    "print('Time in Austin, TX: ', theHourInAustinTX)"
   ]
  },
  {
   "cell_type": "markdown",
   "id": "236f6e22",
   "metadata": {},
   "source": [
    "So, informastion can be extracted, yet, it takes some work and knowledge to get it out. It would be convenient to have easier ways to manipulate dates more explicitely."
   ]
  },
  {
   "cell_type": "markdown",
   "id": "44b50854",
   "metadata": {},
   "source": [
    "$\\color{blue}{\\text{Complete the following exercise.}}$\n",
    "\n",
    " - Print the current time in San Diego (CA)"
   ]
  },
  {
   "cell_type": "code",
   "execution_count": 8,
   "id": "4e1cfd9e",
   "metadata": {},
   "outputs": [
    {
     "name": "stdout",
     "output_type": "stream",
     "text": [
      "Time in San Diego, California: -2\n"
     ]
    }
   ],
   "source": [
    "theHrInSanDiego = theHourInGreenwichUK - 7\n",
    "print('Time in San Diego, California:', theHrInSanDiego)"
   ]
  },
  {
   "cell_type": "markdown",
   "id": "72b28315",
   "metadata": {},
   "source": [
    "#### A note about Naive and Aware objects.\n",
    "\n",
    "Objects pertaining time and dates depend on geographical position and time zones. Time zones could be day-light savings, e.g., CDT for Austin, TX or standard, e.g., CST for Austin, TX. \n",
    "\n",
    "Two types of objects exist in python:\n",
    "  - Aware Objects - Objects are called `aware` when they can locate themselves relative to other aware objects. Aware objects represent a specific moment in time that is not open to interpretation.\n",
    "\n",
    "  - Naive Objects - A naive objects do not contain enough information to unambiguously locate themselves relative to other date/time objects. Whether a naive object represents Coordinated Universal Time (UTC), local time, or time in some other timezone is purely up to the program, just like it is up to the program whether a particular number represents metres, miles, or mass. \n",
    "  \n",
    "  \n",
    "The outputs on `datetime` are `time` are naive by default. Optional calls to `timezone` can be made to make the objects aware. See [here](https://docs.python.org/3/library/datetime.html) for more information about Naive and Aware time objects."
   ]
  },
  {
   "cell_type": "markdown",
   "id": "28c21705",
   "metadata": {},
   "source": [
    "The functionality of `datetime` and `time` is exstensive as they allow advance and flexible manipulation of events, timing and calendars. The goal of this tutorial is to get you started and provide an overview of methods available to access time and date information. \n",
    "\n",
    "One limitation of of the core function for time manipulation in python is the inability to handle large arrays of dates and times. This is an important feature, especially for data science applications where often times arrays can reach a large size. \n",
    "\n",
    "This issue is similar to the issue we have encountered before, where the standard lists in Python are limited in their ability to support advanced numerical operations. \n",
    "\n",
    "---"
   ]
  },
  {
   "cell_type": "markdown",
   "id": "c4eadd1a",
   "metadata": {},
   "source": [
    "## NumPy objects for date and time"
   ]
  },
  {
   "cell_type": "markdown",
   "id": "d2b3c6fa",
   "metadata": {},
   "source": [
    "As we learned in previous tutorials, NumPy addressed the needs of the community to handle large datasets by providing the ability to store large variables into computable objects. \n",
    "\n",
    "Also for time and date functionality, NumPy added to the set of native date and time python functions, a set of additional functions to handle large objects, manipulate and perform numerical operations. \n",
    "\n",
    "\n",
    "The functions NumPy added build on top of two NumPy objects:\n",
    "  \n",
    "  - `datetime64` - \n",
    "  - `timedelta64`\n",
    "  \n",
    "`datetime64` and `timedelta64` encodes dates as 64-bit integers, array operator. This allows the data stored as a date to be much larger than the basic python date and time variables and allows them to be computable.\n",
    "\n",
    "---"
   ]
  },
  {
   "cell_type": "markdown",
   "id": "80a94ea2",
   "metadata": {},
   "source": [
    "A NumPy `datetime64` variable can be usig very specific formats for example:"
   ]
  },
  {
   "cell_type": "code",
   "execution_count": 9,
   "id": "8cca92d4",
   "metadata": {},
   "outputs": [
    {
     "name": "stdout",
     "output_type": "stream",
     "text": [
      "ISO format < 1985-11-15 >\n"
     ]
    }
   ],
   "source": [
    "import numpy as np\n",
    "date = np.array('1985-11-15', dtype=np.datetime64)\n",
    "print('ISO format <', date, '>')"
   ]
  },
  {
   "cell_type": "markdown",
   "id": "d3be0a18",
   "metadata": {},
   "source": [
    "Note that the NumPy arrays requires a very specific format as input: 'YYYY-MM-DD'. This is the most basic way to create datetimes array using an ISO 8601 date or datetime format."
   ]
  },
  {
   "cell_type": "markdown",
   "id": "f8a4af1f",
   "metadata": {},
   "source": [
    "This new object is though fundamentally different than any of the previously encountered data, time objects in python. For example, we can perform direct computations using this object (datetime in NumPy works with most NumPy operations such as `arange`). \n",
    "\n",
    "Hereafter we add numbers in the range between [0-11] to the days in the original date and replicate the entry in the array in a single operation:"
   ]
  },
  {
   "cell_type": "code",
   "execution_count": 10,
   "id": "204f5853",
   "metadata": {},
   "outputs": [
    {
     "data": {
      "text/plain": [
       "array(['1985-11-15', '1985-11-16', '1985-11-17', '1985-11-18',\n",
       "       '1985-11-19', '1985-11-20', '1985-11-21', '1985-11-22',\n",
       "       '1985-11-23', '1985-11-24', '1985-11-25', '1985-11-26'],\n",
       "      dtype='datetime64[D]')"
      ]
     },
     "execution_count": 10,
     "metadata": {},
     "output_type": "execute_result"
    }
   ],
   "source": [
    "date + np.arange(12)"
   ]
  },
  {
   "cell_type": "markdown",
   "id": "146ebcab",
   "metadata": {},
   "source": [
    "$\\color{blue}{\\text{Complete the following exercise.}}$\n",
    "\n",
    " - Create the date of your birth (as dtype=np.datetime64) and add to it your current age. Print the result:"
   ]
  },
  {
   "cell_type": "code",
   "execution_count": 11,
   "id": "7aba57c0",
   "metadata": {},
   "outputs": [
    {
     "data": {
      "text/plain": [
       "array(['2000-11-20', '2001-11-20', '2002-11-20', '2003-11-20',\n",
       "       '2004-11-19', '2005-11-19', '2006-11-19', '2007-11-19',\n",
       "       '2008-11-18', '2009-11-18', '2010-11-18', '2011-11-18',\n",
       "       '2012-11-17', '2013-11-17', '2014-11-17', '2015-11-17',\n",
       "       '2016-11-16', '2017-11-16', '2018-11-16', '2019-11-16',\n",
       "       '2020-11-15', '2021-11-15'], dtype='datetime64[D]')"
      ]
     },
     "execution_count": 11,
     "metadata": {},
     "output_type": "execute_result"
    }
   ],
   "source": [
    "mrfrdate = np.array('2000-11-20', dtype=np.datetime64)\n",
    "mrfrdate + 365*np.arange(22)"
   ]
  },
  {
   "cell_type": "markdown",
   "id": "e7e2aa38",
   "metadata": {},
   "source": [
    "A range of days can be specified at definition to when creating an array:"
   ]
  },
  {
   "cell_type": "code",
   "execution_count": 12,
   "id": "7055dd5d",
   "metadata": {},
   "outputs": [
    {
     "name": "stdout",
     "output_type": "stream",
     "text": [
      "All days in two months ['2020-02-01' '2020-02-02' '2020-02-03' '2020-02-04' '2020-02-05'\n",
      " '2020-02-06' '2020-02-07' '2020-02-08' '2020-02-09' '2020-02-10'\n",
      " '2020-02-11' '2020-02-12' '2020-02-13' '2020-02-14' '2020-02-15'\n",
      " '2020-02-16' '2020-02-17' '2020-02-18' '2020-02-19' '2020-02-20'\n",
      " '2020-02-21' '2020-02-22' '2020-02-23' '2020-02-24' '2020-02-25'\n",
      " '2020-02-26' '2020-02-27' '2020-02-28' '2020-02-29' '2020-03-01'\n",
      " '2020-03-02' '2020-03-03' '2020-03-04' '2020-03-05' '2020-03-06'\n",
      " '2020-03-07' '2020-03-08' '2020-03-09' '2020-03-10' '2020-03-11'\n",
      " '2020-03-12' '2020-03-13' '2020-03-14' '2020-03-15' '2020-03-16'\n",
      " '2020-03-17' '2020-03-18' '2020-03-19' '2020-03-20' '2020-03-21'\n",
      " '2020-03-22' '2020-03-23' '2020-03-24' '2020-03-25' '2020-03-26'\n",
      " '2020-03-27' '2020-03-28' '2020-03-29' '2020-03-30' '2020-03-31']\n"
     ]
    }
   ],
   "source": [
    "daysInTwoMonths = np.arange('2020-02', '2020-04', dtype='datetime64[D]')\n",
    "\n",
    "print('All days in two months', daysInTwoMonths)"
   ]
  },
  {
   "cell_type": "markdown",
   "id": "da6968d1",
   "metadata": {},
   "source": [
    "$\\color{blue}{\\text{Complete the following exercise.}}$\n",
    "\n",
    " - Question 1: Does NumPy treat \"February' properly?"
   ]
  },
  {
   "cell_type": "markdown",
   "id": "b5912847",
   "metadata": {},
   "source": [
    "yes it added the 29th day in 2020"
   ]
  },
  {
   "cell_type": "markdown",
   "id": "280d61da",
   "metadata": {},
   "source": [
    " - Question 2: Does it deal with leap years?"
   ]
  },
  {
   "cell_type": "markdown",
   "id": "36284312",
   "metadata": {},
   "source": [
    "I think so. I changed the year in the previous code before and it accounted for it not being a leap year."
   ]
  },
  {
   "cell_type": "markdown",
   "id": "ba09acd7",
   "metadata": {},
   "source": [
    "In the short overview of NumPy above we have seen that it made two fundamental improvements over the more basic ways to access date and time information in python:\n",
    "  - First it allowed handling larger arrays\n",
    "  - Second it made the date and time arrays computable, just like the other objects in NumPy"
   ]
  },
  {
   "cell_type": "markdown",
   "id": "81bb7d11",
   "metadata": {},
   "source": [
    "---\n",
    "## Pandas Time Series\n",
    "\n",
    "As discussed in previous tutorials, Pandas was developed to handle data from investment banking. A key aspect of the data types that investment banking have to deal with is time series; data tht varies across actual time (seconds, minutes, hours, days, weeks, months and years).\n",
    "\n",
    "Because of this, Pandas comes with abundant functionality to deal with time series, time events and computations. The Pandas time series functionality leverages what we have alredy discussed about the library *indexes*, *series* and *data frames* and builts on top of python's own time functions."
   ]
  },
  {
   "cell_type": "markdown",
   "id": "27b2272d",
   "metadata": {},
   "source": [
    "Whereas Python allows accessing fundamental time and date information from the operative system and NumPy turns the time and date objects into computable data, Pandas improves this functionality to build full-time series tables and objects."
   ]
  },
  {
   "cell_type": "markdown",
   "id": "b8ba4e79",
   "metadata": {},
   "source": [
    "Pandas consolidated functionality from the basic python libraries as well as NumPy (as well as scikits.timeseries). In doing so, Pandas has also created new functionality for manipulating time series data. Pandas Organizes and provides a cohesive interface to call NumPy and Python core time functions."
   ]
  },
  {
   "cell_type": "markdown",
   "id": "19511a60",
   "metadata": {},
   "source": [
    "---\n",
    "\n",
    "Pandas builds upon the following objects:\n",
    "  - Python's `datetime` (as well as `dateutil`)\n",
    "  - NumPy's `datetime64`\n",
    "  - Pandas'\n",
    "    - `Timestamp`\n",
    "    - `DatetimeIndex`\n",
    "    - `Series`\n",
    "    - `DataFrame`\n",
    "\n",
    "---\n",
    "\n",
    "Hereafer, we will dig into a few of the features pandas has to offer!"
   ]
  },
  {
   "cell_type": "markdown",
   "id": "971ed11b",
   "metadata": {},
   "source": [
    "### Pandas basic time an date objects\n",
    "\n",
    "The fundamental objects dealing with time series in Pandas is `Timestamp`. The object can be created from heterogeneous input data formats, that are more user friendly. \n",
    "\n",
    "This means that the same Timestamp can be created from differently formatted inputs. Pandas' will interpret the different formatting and map them to appropriate datetime objects (with some limits of course):"
   ]
  },
  {
   "cell_type": "code",
   "execution_count": 13,
   "id": "74882f6f",
   "metadata": {},
   "outputs": [],
   "source": [
    "import pandas as pd\n",
    "import numpy as np"
   ]
  },
  {
   "cell_type": "code",
   "execution_count": 14,
   "id": "8f5bd57d",
   "metadata": {},
   "outputs": [
    {
     "name": "stdout",
     "output_type": "stream",
     "text": [
      "Output from \"15th of November, 1985\" 1985-11-15 00:00:00\n"
     ]
    }
   ],
   "source": [
    "date = pd.to_datetime(\"15th of November, 1985\")\n",
    "date\n",
    "print('Output from \"15th of November, 1985\"', date)"
   ]
  },
  {
   "cell_type": "code",
   "execution_count": 15,
   "id": "ef0891ac",
   "metadata": {},
   "outputs": [
    {
     "name": "stdout",
     "output_type": "stream",
     "text": [
      "Output from \"November 15, 2015\"      1985-11-15 00:00:00\n"
     ]
    }
   ],
   "source": [
    "date = pd.to_datetime(\"November 15, 1985\")\n",
    "print('Output from \"November 15, 2015\"     ', date)"
   ]
  },
  {
   "cell_type": "markdown",
   "id": "dc0867fc",
   "metadata": {},
   "source": [
    "$\\color{blue}{\\text{Complete the following exercise.}}$\n",
    "\n",
    " - Use pandas' `.to_datetime` to create a your birthdate and print it using the cell below"
   ]
  },
  {
   "cell_type": "code",
   "execution_count": 16,
   "id": "87058942",
   "metadata": {},
   "outputs": [
    {
     "name": "stdout",
     "output_type": "stream",
     "text": [
      "2000-11-20 00:00:00\n"
     ]
    }
   ],
   "source": [
    "mrfrdate = pd.to_datetime('November 20, 2000')\n",
    "print(mrfrdate)"
   ]
  },
  {
   "cell_type": "markdown",
   "id": "44376877",
   "metadata": {},
   "source": [
    "Another example of the flexibility of Pandas' interpretation of inputs:"
   ]
  },
  {
   "cell_type": "code",
   "execution_count": 17,
   "id": "f276708e",
   "metadata": {},
   "outputs": [
    {
     "data": {
      "text/plain": [
       "DatetimeIndex(['1985-11-15', '1985-11-14', '1985-11-15', '1985-07-11',\n",
       "               '1985-11-08'],\n",
       "              dtype='datetime64[ns]', freq=None)"
      ]
     },
     "execution_count": 17,
     "metadata": {},
     "output_type": "execute_result"
    }
   ],
   "source": [
    "date1 = pd.to_datetime([datetime(1985, 11, 15), '14th of November, 1985',\n",
    "                       '1985-Nov-15', '07-11-1985', '19851108'])\n",
    "date1"
   ]
  },
  {
   "cell_type": "markdown",
   "id": "6d951d6d",
   "metadata": {},
   "source": [
    "All above diverse formats have been interpreted correctly.  Instead, the following odd formatting will fail, because Pandas will not be prepared to parse it:"
   ]
  },
  {
   "cell_type": "code",
   "execution_count": 18,
   "id": "f4e68196",
   "metadata": {},
   "outputs": [
    {
     "ename": "ParserError",
     "evalue": "Unknown string format: November 15 : 1985 present at position 0",
     "output_type": "error",
     "traceback": [
      "\u001b[0;31m---------------------------------------------------------------------------\u001b[0m",
      "\u001b[0;31mParserError\u001b[0m                               Traceback (most recent call last)",
      "File \u001b[0;32m/opt/homebrew/lib/python3.10/site-packages/pandas/_libs/tslib.pyx:606\u001b[0m, in \u001b[0;36mpandas._libs.tslib.array_to_datetime\u001b[0;34m()\u001b[0m\n",
      "File \u001b[0;32m/opt/homebrew/lib/python3.10/site-packages/pandas/_libs/tslibs/parsing.pyx:321\u001b[0m, in \u001b[0;36mpandas._libs.tslibs.parsing.parse_datetime_string\u001b[0;34m()\u001b[0m\n",
      "File \u001b[0;32m/opt/homebrew/Cellar/jupyterlab/3.4.8/libexec/lib/python3.10/site-packages/dateutil/parser/_parser.py:1368\u001b[0m, in \u001b[0;36mparse\u001b[0;34m(timestr, parserinfo, **kwargs)\u001b[0m\n\u001b[1;32m   1367\u001b[0m \u001b[38;5;28;01melse\u001b[39;00m:\n\u001b[0;32m-> 1368\u001b[0m     \u001b[38;5;28;01mreturn\u001b[39;00m \u001b[43mDEFAULTPARSER\u001b[49m\u001b[38;5;241;43m.\u001b[39;49m\u001b[43mparse\u001b[49m\u001b[43m(\u001b[49m\u001b[43mtimestr\u001b[49m\u001b[43m,\u001b[49m\u001b[43m \u001b[49m\u001b[38;5;241;43m*\u001b[39;49m\u001b[38;5;241;43m*\u001b[39;49m\u001b[43mkwargs\u001b[49m\u001b[43m)\u001b[49m\n",
      "File \u001b[0;32m/opt/homebrew/Cellar/jupyterlab/3.4.8/libexec/lib/python3.10/site-packages/dateutil/parser/_parser.py:643\u001b[0m, in \u001b[0;36mparser.parse\u001b[0;34m(self, timestr, default, ignoretz, tzinfos, **kwargs)\u001b[0m\n\u001b[1;32m    642\u001b[0m \u001b[38;5;28;01mif\u001b[39;00m res \u001b[38;5;129;01mis\u001b[39;00m \u001b[38;5;28;01mNone\u001b[39;00m:\n\u001b[0;32m--> 643\u001b[0m     \u001b[38;5;28;01mraise\u001b[39;00m ParserError(\u001b[38;5;124m\"\u001b[39m\u001b[38;5;124mUnknown string format: \u001b[39m\u001b[38;5;132;01m%s\u001b[39;00m\u001b[38;5;124m\"\u001b[39m, timestr)\n\u001b[1;32m    645\u001b[0m \u001b[38;5;28;01mif\u001b[39;00m \u001b[38;5;28mlen\u001b[39m(res) \u001b[38;5;241m==\u001b[39m \u001b[38;5;241m0\u001b[39m:\n",
      "\u001b[0;31mParserError\u001b[0m: Unknown string format: November 15 : 1985",
      "\nDuring handling of the above exception, another exception occurred:\n",
      "\u001b[0;31mTypeError\u001b[0m                                 Traceback (most recent call last)",
      "File \u001b[0;32m/opt/homebrew/lib/python3.10/site-packages/pandas/_libs/tslib.pyx:617\u001b[0m, in \u001b[0;36mpandas._libs.tslib.array_to_datetime\u001b[0;34m()\u001b[0m\n",
      "\u001b[0;31mTypeError\u001b[0m: invalid string coercion to datetime for \"November 15 : 1985\" at position 0",
      "\nDuring handling of the above exception, another exception occurred:\n",
      "\u001b[0;31mParserError\u001b[0m                               Traceback (most recent call last)",
      "Cell \u001b[0;32mIn [18], line 1\u001b[0m\n\u001b[0;32m----> 1\u001b[0m date2 \u001b[38;5;241m=\u001b[39m pd\u001b[38;5;241m.\u001b[39mto_datetime(\u001b[38;5;124m\"\u001b[39m\u001b[38;5;124mNovember 15 : 1985\u001b[39m\u001b[38;5;124m\"\u001b[39m)\n\u001b[1;32m      2\u001b[0m \u001b[38;5;28mprint\u001b[39m(\u001b[38;5;124m'\u001b[39m\u001b[38;5;124mOutput from \u001b[39m\u001b[38;5;124m\"\u001b[39m\u001b[38;5;124mNovember 15 : 1985\u001b[39m\u001b[38;5;124m\"\u001b[39m\u001b[38;5;124m     \u001b[39m\u001b[38;5;124m'\u001b[39m, date2)\n",
      "File \u001b[0;32m/opt/homebrew/lib/python3.10/site-packages/pandas/core/tools/datetimes.py:1103\u001b[0m, in \u001b[0;36mto_datetime\u001b[0;34m(arg, errors, dayfirst, yearfirst, utc, format, exact, unit, infer_datetime_format, origin, cache)\u001b[0m\n\u001b[1;32m   1101\u001b[0m         result \u001b[38;5;241m=\u001b[39m convert_listlike(argc, \u001b[38;5;28mformat\u001b[39m)\n\u001b[1;32m   1102\u001b[0m \u001b[38;5;28;01melse\u001b[39;00m:\n\u001b[0;32m-> 1103\u001b[0m     result \u001b[38;5;241m=\u001b[39m \u001b[43mconvert_listlike\u001b[49m\u001b[43m(\u001b[49m\u001b[43mnp\u001b[49m\u001b[38;5;241;43m.\u001b[39;49m\u001b[43marray\u001b[49m\u001b[43m(\u001b[49m\u001b[43m[\u001b[49m\u001b[43marg\u001b[49m\u001b[43m]\u001b[49m\u001b[43m)\u001b[49m\u001b[43m,\u001b[49m\u001b[43m \u001b[49m\u001b[38;5;28;43mformat\u001b[39;49m\u001b[43m)\u001b[49m[\u001b[38;5;241m0\u001b[39m]\n\u001b[1;32m   1104\u001b[0m     \u001b[38;5;28;01mif\u001b[39;00m \u001b[38;5;28misinstance\u001b[39m(arg, \u001b[38;5;28mbool\u001b[39m) \u001b[38;5;129;01mand\u001b[39;00m \u001b[38;5;28misinstance\u001b[39m(result, np\u001b[38;5;241m.\u001b[39mbool_):\n\u001b[1;32m   1105\u001b[0m         result \u001b[38;5;241m=\u001b[39m \u001b[38;5;28mbool\u001b[39m(result)  \u001b[38;5;66;03m# TODO: avoid this kludge.\u001b[39;00m\n",
      "File \u001b[0;32m/opt/homebrew/lib/python3.10/site-packages/pandas/core/tools/datetimes.py:439\u001b[0m, in \u001b[0;36m_convert_listlike_datetimes\u001b[0;34m(arg, format, name, tz, unit, errors, infer_datetime_format, dayfirst, yearfirst, exact)\u001b[0m\n\u001b[1;32m    437\u001b[0m \u001b[38;5;28;01massert\u001b[39;00m \u001b[38;5;28mformat\u001b[39m \u001b[38;5;129;01mis\u001b[39;00m \u001b[38;5;28;01mNone\u001b[39;00m \u001b[38;5;129;01mor\u001b[39;00m infer_datetime_format\n\u001b[1;32m    438\u001b[0m utc \u001b[38;5;241m=\u001b[39m tz \u001b[38;5;241m==\u001b[39m \u001b[38;5;124m\"\u001b[39m\u001b[38;5;124mutc\u001b[39m\u001b[38;5;124m\"\u001b[39m\n\u001b[0;32m--> 439\u001b[0m result, tz_parsed \u001b[38;5;241m=\u001b[39m \u001b[43mobjects_to_datetime64ns\u001b[49m\u001b[43m(\u001b[49m\n\u001b[1;32m    440\u001b[0m \u001b[43m    \u001b[49m\u001b[43marg\u001b[49m\u001b[43m,\u001b[49m\n\u001b[1;32m    441\u001b[0m \u001b[43m    \u001b[49m\u001b[43mdayfirst\u001b[49m\u001b[38;5;241;43m=\u001b[39;49m\u001b[43mdayfirst\u001b[49m\u001b[43m,\u001b[49m\n\u001b[1;32m    442\u001b[0m \u001b[43m    \u001b[49m\u001b[43myearfirst\u001b[49m\u001b[38;5;241;43m=\u001b[39;49m\u001b[43myearfirst\u001b[49m\u001b[43m,\u001b[49m\n\u001b[1;32m    443\u001b[0m \u001b[43m    \u001b[49m\u001b[43mutc\u001b[49m\u001b[38;5;241;43m=\u001b[39;49m\u001b[43mutc\u001b[49m\u001b[43m,\u001b[49m\n\u001b[1;32m    444\u001b[0m \u001b[43m    \u001b[49m\u001b[43merrors\u001b[49m\u001b[38;5;241;43m=\u001b[39;49m\u001b[43merrors\u001b[49m\u001b[43m,\u001b[49m\n\u001b[1;32m    445\u001b[0m \u001b[43m    \u001b[49m\u001b[43mrequire_iso8601\u001b[49m\u001b[38;5;241;43m=\u001b[39;49m\u001b[43mrequire_iso8601\u001b[49m\u001b[43m,\u001b[49m\n\u001b[1;32m    446\u001b[0m \u001b[43m    \u001b[49m\u001b[43mallow_object\u001b[49m\u001b[38;5;241;43m=\u001b[39;49m\u001b[38;5;28;43;01mTrue\u001b[39;49;00m\u001b[43m,\u001b[49m\n\u001b[1;32m    447\u001b[0m \u001b[43m\u001b[49m\u001b[43m)\u001b[49m\n\u001b[1;32m    449\u001b[0m \u001b[38;5;28;01mif\u001b[39;00m tz_parsed \u001b[38;5;129;01mis\u001b[39;00m \u001b[38;5;129;01mnot\u001b[39;00m \u001b[38;5;28;01mNone\u001b[39;00m:\n\u001b[1;32m    450\u001b[0m     \u001b[38;5;66;03m# We can take a shortcut since the datetime64 numpy array\u001b[39;00m\n\u001b[1;32m    451\u001b[0m     \u001b[38;5;66;03m# is in UTC\u001b[39;00m\n\u001b[1;32m    452\u001b[0m     dta \u001b[38;5;241m=\u001b[39m DatetimeArray(result, dtype\u001b[38;5;241m=\u001b[39mtz_to_dtype(tz_parsed))\n",
      "File \u001b[0;32m/opt/homebrew/lib/python3.10/site-packages/pandas/core/arrays/datetimes.py:2178\u001b[0m, in \u001b[0;36mobjects_to_datetime64ns\u001b[0;34m(data, dayfirst, yearfirst, utc, errors, require_iso8601, allow_object, allow_mixed)\u001b[0m\n\u001b[1;32m   2176\u001b[0m order: Literal[\u001b[38;5;124m\"\u001b[39m\u001b[38;5;124mF\u001b[39m\u001b[38;5;124m\"\u001b[39m, \u001b[38;5;124m\"\u001b[39m\u001b[38;5;124mC\u001b[39m\u001b[38;5;124m\"\u001b[39m] \u001b[38;5;241m=\u001b[39m \u001b[38;5;124m\"\u001b[39m\u001b[38;5;124mF\u001b[39m\u001b[38;5;124m\"\u001b[39m \u001b[38;5;28;01mif\u001b[39;00m flags\u001b[38;5;241m.\u001b[39mf_contiguous \u001b[38;5;28;01melse\u001b[39;00m \u001b[38;5;124m\"\u001b[39m\u001b[38;5;124mC\u001b[39m\u001b[38;5;124m\"\u001b[39m\n\u001b[1;32m   2177\u001b[0m \u001b[38;5;28;01mtry\u001b[39;00m:\n\u001b[0;32m-> 2178\u001b[0m     result, tz_parsed \u001b[38;5;241m=\u001b[39m \u001b[43mtslib\u001b[49m\u001b[38;5;241;43m.\u001b[39;49m\u001b[43marray_to_datetime\u001b[49m\u001b[43m(\u001b[49m\n\u001b[1;32m   2179\u001b[0m \u001b[43m        \u001b[49m\u001b[43mdata\u001b[49m\u001b[38;5;241;43m.\u001b[39;49m\u001b[43mravel\u001b[49m\u001b[43m(\u001b[49m\u001b[38;5;124;43m\"\u001b[39;49m\u001b[38;5;124;43mK\u001b[39;49m\u001b[38;5;124;43m\"\u001b[39;49m\u001b[43m)\u001b[49m\u001b[43m,\u001b[49m\n\u001b[1;32m   2180\u001b[0m \u001b[43m        \u001b[49m\u001b[43merrors\u001b[49m\u001b[38;5;241;43m=\u001b[39;49m\u001b[43merrors\u001b[49m\u001b[43m,\u001b[49m\n\u001b[1;32m   2181\u001b[0m \u001b[43m        \u001b[49m\u001b[43mutc\u001b[49m\u001b[38;5;241;43m=\u001b[39;49m\u001b[43mutc\u001b[49m\u001b[43m,\u001b[49m\n\u001b[1;32m   2182\u001b[0m \u001b[43m        \u001b[49m\u001b[43mdayfirst\u001b[49m\u001b[38;5;241;43m=\u001b[39;49m\u001b[43mdayfirst\u001b[49m\u001b[43m,\u001b[49m\n\u001b[1;32m   2183\u001b[0m \u001b[43m        \u001b[49m\u001b[43myearfirst\u001b[49m\u001b[38;5;241;43m=\u001b[39;49m\u001b[43myearfirst\u001b[49m\u001b[43m,\u001b[49m\n\u001b[1;32m   2184\u001b[0m \u001b[43m        \u001b[49m\u001b[43mrequire_iso8601\u001b[49m\u001b[38;5;241;43m=\u001b[39;49m\u001b[43mrequire_iso8601\u001b[49m\u001b[43m,\u001b[49m\n\u001b[1;32m   2185\u001b[0m \u001b[43m        \u001b[49m\u001b[43mallow_mixed\u001b[49m\u001b[38;5;241;43m=\u001b[39;49m\u001b[43mallow_mixed\u001b[49m\u001b[43m,\u001b[49m\n\u001b[1;32m   2186\u001b[0m \u001b[43m    \u001b[49m\u001b[43m)\u001b[49m\n\u001b[1;32m   2187\u001b[0m     result \u001b[38;5;241m=\u001b[39m result\u001b[38;5;241m.\u001b[39mreshape(data\u001b[38;5;241m.\u001b[39mshape, order\u001b[38;5;241m=\u001b[39morder)\n\u001b[1;32m   2188\u001b[0m \u001b[38;5;28;01mexcept\u001b[39;00m \u001b[38;5;167;01mOverflowError\u001b[39;00m \u001b[38;5;28;01mas\u001b[39;00m err:\n\u001b[1;32m   2189\u001b[0m     \u001b[38;5;66;03m# Exception is raised when a part of date is greater than 32 bit signed int\u001b[39;00m\n",
      "File \u001b[0;32m/opt/homebrew/lib/python3.10/site-packages/pandas/_libs/tslib.pyx:428\u001b[0m, in \u001b[0;36mpandas._libs.tslib.array_to_datetime\u001b[0;34m()\u001b[0m\n",
      "File \u001b[0;32m/opt/homebrew/lib/python3.10/site-packages/pandas/_libs/tslib.pyx:684\u001b[0m, in \u001b[0;36mpandas._libs.tslib.array_to_datetime\u001b[0;34m()\u001b[0m\n",
      "File \u001b[0;32m/opt/homebrew/lib/python3.10/site-packages/pandas/_libs/tslib.pyx:830\u001b[0m, in \u001b[0;36mpandas._libs.tslib._array_to_datetime_object\u001b[0;34m()\u001b[0m\n",
      "File \u001b[0;32m/opt/homebrew/lib/python3.10/site-packages/pandas/_libs/tslib.pyx:820\u001b[0m, in \u001b[0;36mpandas._libs.tslib._array_to_datetime_object\u001b[0;34m()\u001b[0m\n",
      "File \u001b[0;32m/opt/homebrew/lib/python3.10/site-packages/pandas/_libs/tslibs/parsing.pyx:321\u001b[0m, in \u001b[0;36mpandas._libs.tslibs.parsing.parse_datetime_string\u001b[0;34m()\u001b[0m\n",
      "File \u001b[0;32m/opt/homebrew/Cellar/jupyterlab/3.4.8/libexec/lib/python3.10/site-packages/dateutil/parser/_parser.py:1368\u001b[0m, in \u001b[0;36mparse\u001b[0;34m(timestr, parserinfo, **kwargs)\u001b[0m\n\u001b[1;32m   1366\u001b[0m     \u001b[38;5;28;01mreturn\u001b[39;00m parser(parserinfo)\u001b[38;5;241m.\u001b[39mparse(timestr, \u001b[38;5;241m*\u001b[39m\u001b[38;5;241m*\u001b[39mkwargs)\n\u001b[1;32m   1367\u001b[0m \u001b[38;5;28;01melse\u001b[39;00m:\n\u001b[0;32m-> 1368\u001b[0m     \u001b[38;5;28;01mreturn\u001b[39;00m \u001b[43mDEFAULTPARSER\u001b[49m\u001b[38;5;241;43m.\u001b[39;49m\u001b[43mparse\u001b[49m\u001b[43m(\u001b[49m\u001b[43mtimestr\u001b[49m\u001b[43m,\u001b[49m\u001b[43m \u001b[49m\u001b[38;5;241;43m*\u001b[39;49m\u001b[38;5;241;43m*\u001b[39;49m\u001b[43mkwargs\u001b[49m\u001b[43m)\u001b[49m\n",
      "File \u001b[0;32m/opt/homebrew/Cellar/jupyterlab/3.4.8/libexec/lib/python3.10/site-packages/dateutil/parser/_parser.py:643\u001b[0m, in \u001b[0;36mparser.parse\u001b[0;34m(self, timestr, default, ignoretz, tzinfos, **kwargs)\u001b[0m\n\u001b[1;32m    640\u001b[0m res, skipped_tokens \u001b[38;5;241m=\u001b[39m \u001b[38;5;28mself\u001b[39m\u001b[38;5;241m.\u001b[39m_parse(timestr, \u001b[38;5;241m*\u001b[39m\u001b[38;5;241m*\u001b[39mkwargs)\n\u001b[1;32m    642\u001b[0m \u001b[38;5;28;01mif\u001b[39;00m res \u001b[38;5;129;01mis\u001b[39;00m \u001b[38;5;28;01mNone\u001b[39;00m:\n\u001b[0;32m--> 643\u001b[0m     \u001b[38;5;28;01mraise\u001b[39;00m ParserError(\u001b[38;5;124m\"\u001b[39m\u001b[38;5;124mUnknown string format: \u001b[39m\u001b[38;5;132;01m%s\u001b[39;00m\u001b[38;5;124m\"\u001b[39m, timestr)\n\u001b[1;32m    645\u001b[0m \u001b[38;5;28;01mif\u001b[39;00m \u001b[38;5;28mlen\u001b[39m(res) \u001b[38;5;241m==\u001b[39m \u001b[38;5;241m0\u001b[39m:\n\u001b[1;32m    646\u001b[0m     \u001b[38;5;28;01mraise\u001b[39;00m ParserError(\u001b[38;5;124m\"\u001b[39m\u001b[38;5;124mString does not contain a date: \u001b[39m\u001b[38;5;132;01m%s\u001b[39;00m\u001b[38;5;124m\"\u001b[39m, timestr)\n",
      "\u001b[0;31mParserError\u001b[0m: Unknown string format: November 15 : 1985 present at position 0"
     ]
    }
   ],
   "source": [
    "date2 = pd.to_datetime(\"November 15 : 1985\")\n",
    "print('Output from \"November 15 : 1985\"     ', date2)"
   ]
  },
  {
   "cell_type": "markdown",
   "id": "7609f117",
   "metadata": {},
   "source": [
    "`.to_datetime` is the method to take an input, interpret it and map it to the appropriate time and date (`Timestamp` in Pandas)."
   ]
  },
  {
   "cell_type": "markdown",
   "id": "dacf6260",
   "metadata": {},
   "source": [
    "---\n",
    "\n",
    "The `Timestamp` object is elevated in pandas into the `DatetimeIndex` object. The DatetimeIndex allows array-style operations, similar to those allowed by NumPay. \n",
    "\n",
    "For example, we can show 20 days starting on November 15 1985: "
   ]
  },
  {
   "cell_type": "code",
   "execution_count": 19,
   "id": "17c00db8",
   "metadata": {},
   "outputs": [
    {
     "data": {
      "text/plain": [
       "DatetimeIndex(['1985-11-15', '1985-11-16', '1985-11-17', '1985-11-18',\n",
       "               '1985-11-19', '1985-11-20', '1985-11-21', '1985-11-22',\n",
       "               '1985-11-23', '1985-11-24', '1985-11-25', '1985-11-26',\n",
       "               '1985-11-27', '1985-11-28', '1985-11-29', '1985-11-30',\n",
       "               '1985-12-01', '1985-12-02', '1985-12-03', '1985-12-04'],\n",
       "              dtype='datetime64[ns]', freq=None)"
      ]
     },
     "execution_count": 19,
     "metadata": {},
     "output_type": "execute_result"
    }
   ],
   "source": [
    "date + pd.to_timedelta(np.arange(20), 'D')"
   ]
  },
  {
   "cell_type": "markdown",
   "id": "06cb4186",
   "metadata": {},
   "source": [
    "Note how the `Timestamp` object `date` was changed into a `DatetimeIndex` by the above operation."
   ]
  },
  {
   "cell_type": "markdown",
   "id": "26d5d921",
   "metadata": {},
   "source": [
    "An operation similar to the above can also be implemented by accessing directly Pandas' functionality to manipulate dates. This is another way to create a range starting from a specific year-month-day:"
   ]
  },
  {
   "cell_type": "code",
   "execution_count": 20,
   "id": "53015685",
   "metadata": {},
   "outputs": [
    {
     "name": "stdout",
     "output_type": "stream",
     "text": [
      "DatetimeIndex(['1985-11-15', '1985-11-16', '1985-11-17', '1985-11-18',\n",
      "               '1985-11-19', '1985-11-20', '1985-11-21', '1985-11-22',\n",
      "               '1985-11-23', '1985-11-24', '1985-11-25', '1985-11-26',\n",
      "               '1985-11-27', '1985-11-28', '1985-11-29', '1985-11-30',\n",
      "               '1985-12-01', '1985-12-02', '1985-12-03', '1985-12-04'],\n",
      "              dtype='datetime64[ns]', freq='D')\n"
     ]
    }
   ],
   "source": [
    "dates = pd.date_range(\"19851115\", periods=20, freq='D')\n",
    "print(dates)"
   ]
  },
  {
   "cell_type": "markdown",
   "id": "479d9ba0",
   "metadata": {},
   "source": [
    "A simple change allows performing the same operation across months:"
   ]
  },
  {
   "cell_type": "code",
   "execution_count": 21,
   "id": "56d20aeb",
   "metadata": {},
   "outputs": [
    {
     "data": {
      "text/plain": [
       "DatetimeIndex(['1985-11-30', '1985-12-31', '1986-01-31', '1986-02-28',\n",
       "               '1986-03-31', '1986-04-30', '1986-05-31', '1986-06-30',\n",
       "               '1986-07-31', '1986-08-31', '1986-09-30', '1986-10-31',\n",
       "               '1986-11-30', '1986-12-31', '1987-01-31', '1987-02-28',\n",
       "               '1987-03-31', '1987-04-30', '1987-05-31', '1987-06-30'],\n",
       "              dtype='datetime64[ns]', freq='M')"
      ]
     },
     "execution_count": 21,
     "metadata": {},
     "output_type": "execute_result"
    }
   ],
   "source": [
    "dates = pd.date_range(\"19851115\", periods=20, freq='M')\n",
    "dates"
   ]
  },
  {
   "cell_type": "code",
   "execution_count": 22,
   "id": "f8dca9cd",
   "metadata": {},
   "outputs": [],
   "source": [
    "df = pd.DataFrame(np.random.randn(np.squeeze(dates.shape), 4), \n",
    "                  index=dates, \n",
    "                  columns=[\"Peace\", \"Love\", \"knowledge\", \"compassion\"])"
   ]
  },
  {
   "cell_type": "code",
   "execution_count": 23,
   "id": "07184acb",
   "metadata": {},
   "outputs": [
    {
     "data": {
      "text/html": [
       "<div>\n",
       "<style scoped>\n",
       "    .dataframe tbody tr th:only-of-type {\n",
       "        vertical-align: middle;\n",
       "    }\n",
       "\n",
       "    .dataframe tbody tr th {\n",
       "        vertical-align: top;\n",
       "    }\n",
       "\n",
       "    .dataframe thead th {\n",
       "        text-align: right;\n",
       "    }\n",
       "</style>\n",
       "<table border=\"1\" class=\"dataframe\">\n",
       "  <thead>\n",
       "    <tr style=\"text-align: right;\">\n",
       "      <th></th>\n",
       "      <th>Peace</th>\n",
       "      <th>Love</th>\n",
       "      <th>knowledge</th>\n",
       "      <th>compassion</th>\n",
       "    </tr>\n",
       "  </thead>\n",
       "  <tbody>\n",
       "    <tr>\n",
       "      <th>1985-11-30</th>\n",
       "      <td>0.250774</td>\n",
       "      <td>0.991245</td>\n",
       "      <td>0.968467</td>\n",
       "      <td>-1.217846</td>\n",
       "    </tr>\n",
       "    <tr>\n",
       "      <th>1985-12-31</th>\n",
       "      <td>1.808710</td>\n",
       "      <td>-0.901413</td>\n",
       "      <td>0.550912</td>\n",
       "      <td>-0.301011</td>\n",
       "    </tr>\n",
       "    <tr>\n",
       "      <th>1986-01-31</th>\n",
       "      <td>1.539492</td>\n",
       "      <td>1.014684</td>\n",
       "      <td>1.142483</td>\n",
       "      <td>-0.250022</td>\n",
       "    </tr>\n",
       "    <tr>\n",
       "      <th>1986-02-28</th>\n",
       "      <td>-0.485409</td>\n",
       "      <td>0.700718</td>\n",
       "      <td>-0.147440</td>\n",
       "      <td>0.345779</td>\n",
       "    </tr>\n",
       "    <tr>\n",
       "      <th>1986-03-31</th>\n",
       "      <td>2.488535</td>\n",
       "      <td>1.211967</td>\n",
       "      <td>0.180854</td>\n",
       "      <td>0.126949</td>\n",
       "    </tr>\n",
       "    <tr>\n",
       "      <th>1986-04-30</th>\n",
       "      <td>-0.163994</td>\n",
       "      <td>-0.328552</td>\n",
       "      <td>-0.950882</td>\n",
       "      <td>-1.349117</td>\n",
       "    </tr>\n",
       "    <tr>\n",
       "      <th>1986-05-31</th>\n",
       "      <td>0.585302</td>\n",
       "      <td>0.214088</td>\n",
       "      <td>1.612575</td>\n",
       "      <td>-0.572051</td>\n",
       "    </tr>\n",
       "    <tr>\n",
       "      <th>1986-06-30</th>\n",
       "      <td>0.011198</td>\n",
       "      <td>0.161794</td>\n",
       "      <td>-0.400153</td>\n",
       "      <td>-0.126464</td>\n",
       "    </tr>\n",
       "    <tr>\n",
       "      <th>1986-07-31</th>\n",
       "      <td>1.591737</td>\n",
       "      <td>-2.317122</td>\n",
       "      <td>0.849044</td>\n",
       "      <td>0.760290</td>\n",
       "    </tr>\n",
       "    <tr>\n",
       "      <th>1986-08-31</th>\n",
       "      <td>-0.084333</td>\n",
       "      <td>0.147753</td>\n",
       "      <td>0.781080</td>\n",
       "      <td>-0.709466</td>\n",
       "    </tr>\n",
       "    <tr>\n",
       "      <th>1986-09-30</th>\n",
       "      <td>1.369581</td>\n",
       "      <td>1.579454</td>\n",
       "      <td>-0.791597</td>\n",
       "      <td>2.433956</td>\n",
       "    </tr>\n",
       "    <tr>\n",
       "      <th>1986-10-31</th>\n",
       "      <td>-0.153082</td>\n",
       "      <td>1.901446</td>\n",
       "      <td>0.439875</td>\n",
       "      <td>-0.238275</td>\n",
       "    </tr>\n",
       "    <tr>\n",
       "      <th>1986-11-30</th>\n",
       "      <td>-0.142842</td>\n",
       "      <td>0.007673</td>\n",
       "      <td>0.084436</td>\n",
       "      <td>0.730563</td>\n",
       "    </tr>\n",
       "    <tr>\n",
       "      <th>1986-12-31</th>\n",
       "      <td>1.648288</td>\n",
       "      <td>0.944713</td>\n",
       "      <td>1.374036</td>\n",
       "      <td>0.607709</td>\n",
       "    </tr>\n",
       "    <tr>\n",
       "      <th>1987-01-31</th>\n",
       "      <td>0.936017</td>\n",
       "      <td>0.521372</td>\n",
       "      <td>1.099469</td>\n",
       "      <td>-1.299957</td>\n",
       "    </tr>\n",
       "    <tr>\n",
       "      <th>1987-02-28</th>\n",
       "      <td>0.274190</td>\n",
       "      <td>-0.365132</td>\n",
       "      <td>0.106474</td>\n",
       "      <td>-0.745936</td>\n",
       "    </tr>\n",
       "    <tr>\n",
       "      <th>1987-03-31</th>\n",
       "      <td>1.355603</td>\n",
       "      <td>-2.388523</td>\n",
       "      <td>-1.011773</td>\n",
       "      <td>-0.047371</td>\n",
       "    </tr>\n",
       "    <tr>\n",
       "      <th>1987-04-30</th>\n",
       "      <td>0.384056</td>\n",
       "      <td>0.335274</td>\n",
       "      <td>0.308327</td>\n",
       "      <td>-0.405636</td>\n",
       "    </tr>\n",
       "    <tr>\n",
       "      <th>1987-05-31</th>\n",
       "      <td>-0.871216</td>\n",
       "      <td>0.048421</td>\n",
       "      <td>0.753269</td>\n",
       "      <td>-0.716586</td>\n",
       "    </tr>\n",
       "    <tr>\n",
       "      <th>1987-06-30</th>\n",
       "      <td>-0.694340</td>\n",
       "      <td>1.442641</td>\n",
       "      <td>0.309054</td>\n",
       "      <td>-1.198846</td>\n",
       "    </tr>\n",
       "  </tbody>\n",
       "</table>\n",
       "</div>"
      ],
      "text/plain": [
       "               Peace      Love  knowledge  compassion\n",
       "1985-11-30  0.250774  0.991245   0.968467   -1.217846\n",
       "1985-12-31  1.808710 -0.901413   0.550912   -0.301011\n",
       "1986-01-31  1.539492  1.014684   1.142483   -0.250022\n",
       "1986-02-28 -0.485409  0.700718  -0.147440    0.345779\n",
       "1986-03-31  2.488535  1.211967   0.180854    0.126949\n",
       "1986-04-30 -0.163994 -0.328552  -0.950882   -1.349117\n",
       "1986-05-31  0.585302  0.214088   1.612575   -0.572051\n",
       "1986-06-30  0.011198  0.161794  -0.400153   -0.126464\n",
       "1986-07-31  1.591737 -2.317122   0.849044    0.760290\n",
       "1986-08-31 -0.084333  0.147753   0.781080   -0.709466\n",
       "1986-09-30  1.369581  1.579454  -0.791597    2.433956\n",
       "1986-10-31 -0.153082  1.901446   0.439875   -0.238275\n",
       "1986-11-30 -0.142842  0.007673   0.084436    0.730563\n",
       "1986-12-31  1.648288  0.944713   1.374036    0.607709\n",
       "1987-01-31  0.936017  0.521372   1.099469   -1.299957\n",
       "1987-02-28  0.274190 -0.365132   0.106474   -0.745936\n",
       "1987-03-31  1.355603 -2.388523  -1.011773   -0.047371\n",
       "1987-04-30  0.384056  0.335274   0.308327   -0.405636\n",
       "1987-05-31 -0.871216  0.048421   0.753269   -0.716586\n",
       "1987-06-30 -0.694340  1.442641   0.309054   -1.198846"
      ]
     },
     "execution_count": 23,
     "metadata": {},
     "output_type": "execute_result"
    }
   ],
   "source": [
    "df"
   ]
  },
  {
   "cell_type": "markdown",
   "id": "f325558b",
   "metadata": {},
   "source": [
    "$\\color{blue}{\\text{Complete the following exercise.}}$\n",
    "\n",
    " - Create a dataframe that has your life in months (or years) as index and as columns\n",
    "   - Your happinness rating per month or year. Scale 0-5 where 5 is happiest.\n",
    "   - Your luck score per month or year. Scale 0-5 where 5 is happiest.\n",
    "   - Your Pet's favourite song per month or year."
   ]
  },
  {
   "cell_type": "code",
   "execution_count": 24,
   "id": "c0ef9787",
   "metadata": {},
   "outputs": [
    {
     "data": {
      "text/html": [
       "<div>\n",
       "<style scoped>\n",
       "    .dataframe tbody tr th:only-of-type {\n",
       "        vertical-align: middle;\n",
       "    }\n",
       "\n",
       "    .dataframe tbody tr th {\n",
       "        vertical-align: top;\n",
       "    }\n",
       "\n",
       "    .dataframe thead th {\n",
       "        text-align: right;\n",
       "    }\n",
       "</style>\n",
       "<table border=\"1\" class=\"dataframe\">\n",
       "  <thead>\n",
       "    <tr style=\"text-align: right;\">\n",
       "      <th></th>\n",
       "      <th>Happiness</th>\n",
       "      <th>Luck</th>\n",
       "      <th>Newt's fav song</th>\n",
       "    </tr>\n",
       "  </thead>\n",
       "  <tbody>\n",
       "    <tr>\n",
       "      <th>2000-12-31</th>\n",
       "      <td>-0.202138</td>\n",
       "      <td>-3.195613</td>\n",
       "      <td>-0.073833</td>\n",
       "    </tr>\n",
       "    <tr>\n",
       "      <th>2001-12-31</th>\n",
       "      <td>0.355340</td>\n",
       "      <td>1.081363</td>\n",
       "      <td>0.883874</td>\n",
       "    </tr>\n",
       "    <tr>\n",
       "      <th>2002-12-31</th>\n",
       "      <td>0.743704</td>\n",
       "      <td>-0.305890</td>\n",
       "      <td>-1.336503</td>\n",
       "    </tr>\n",
       "    <tr>\n",
       "      <th>2003-12-31</th>\n",
       "      <td>0.129430</td>\n",
       "      <td>0.678980</td>\n",
       "      <td>-0.358946</td>\n",
       "    </tr>\n",
       "    <tr>\n",
       "      <th>2004-12-31</th>\n",
       "      <td>-1.814366</td>\n",
       "      <td>1.580331</td>\n",
       "      <td>-0.287942</td>\n",
       "    </tr>\n",
       "    <tr>\n",
       "      <th>2005-12-31</th>\n",
       "      <td>-0.559585</td>\n",
       "      <td>-0.030340</td>\n",
       "      <td>-0.228435</td>\n",
       "    </tr>\n",
       "    <tr>\n",
       "      <th>2006-12-31</th>\n",
       "      <td>0.785408</td>\n",
       "      <td>-0.810970</td>\n",
       "      <td>0.205526</td>\n",
       "    </tr>\n",
       "    <tr>\n",
       "      <th>2007-12-31</th>\n",
       "      <td>-0.853302</td>\n",
       "      <td>-1.068907</td>\n",
       "      <td>1.253074</td>\n",
       "    </tr>\n",
       "    <tr>\n",
       "      <th>2008-12-31</th>\n",
       "      <td>-0.023270</td>\n",
       "      <td>-1.150066</td>\n",
       "      <td>0.103387</td>\n",
       "    </tr>\n",
       "    <tr>\n",
       "      <th>2009-12-31</th>\n",
       "      <td>0.438888</td>\n",
       "      <td>0.274204</td>\n",
       "      <td>-0.041497</td>\n",
       "    </tr>\n",
       "    <tr>\n",
       "      <th>2010-12-31</th>\n",
       "      <td>-0.675687</td>\n",
       "      <td>0.247587</td>\n",
       "      <td>0.738766</td>\n",
       "    </tr>\n",
       "    <tr>\n",
       "      <th>2011-12-31</th>\n",
       "      <td>-0.832380</td>\n",
       "      <td>1.864389</td>\n",
       "      <td>0.081345</td>\n",
       "    </tr>\n",
       "    <tr>\n",
       "      <th>2012-12-31</th>\n",
       "      <td>-0.181507</td>\n",
       "      <td>0.797170</td>\n",
       "      <td>0.304693</td>\n",
       "    </tr>\n",
       "    <tr>\n",
       "      <th>2013-12-31</th>\n",
       "      <td>-1.290468</td>\n",
       "      <td>1.019378</td>\n",
       "      <td>0.327538</td>\n",
       "    </tr>\n",
       "    <tr>\n",
       "      <th>2014-12-31</th>\n",
       "      <td>-1.633544</td>\n",
       "      <td>1.668373</td>\n",
       "      <td>0.960326</td>\n",
       "    </tr>\n",
       "    <tr>\n",
       "      <th>2015-12-31</th>\n",
       "      <td>0.060576</td>\n",
       "      <td>1.020195</td>\n",
       "      <td>0.679502</td>\n",
       "    </tr>\n",
       "    <tr>\n",
       "      <th>2016-12-31</th>\n",
       "      <td>-1.277409</td>\n",
       "      <td>0.137727</td>\n",
       "      <td>-1.509210</td>\n",
       "    </tr>\n",
       "    <tr>\n",
       "      <th>2017-12-31</th>\n",
       "      <td>-0.928415</td>\n",
       "      <td>0.742077</td>\n",
       "      <td>0.522603</td>\n",
       "    </tr>\n",
       "    <tr>\n",
       "      <th>2018-12-31</th>\n",
       "      <td>-0.315292</td>\n",
       "      <td>-1.061635</td>\n",
       "      <td>-0.111998</td>\n",
       "    </tr>\n",
       "    <tr>\n",
       "      <th>2019-12-31</th>\n",
       "      <td>2.100200</td>\n",
       "      <td>1.243450</td>\n",
       "      <td>-1.658196</td>\n",
       "    </tr>\n",
       "    <tr>\n",
       "      <th>2020-12-31</th>\n",
       "      <td>-1.266624</td>\n",
       "      <td>0.551866</td>\n",
       "      <td>0.684481</td>\n",
       "    </tr>\n",
       "    <tr>\n",
       "      <th>2021-12-31</th>\n",
       "      <td>0.275211</td>\n",
       "      <td>0.318883</td>\n",
       "      <td>0.477822</td>\n",
       "    </tr>\n",
       "  </tbody>\n",
       "</table>\n",
       "</div>"
      ],
      "text/plain": [
       "            Happiness      Luck  Newt's fav song\n",
       "2000-12-31  -0.202138 -3.195613        -0.073833\n",
       "2001-12-31   0.355340  1.081363         0.883874\n",
       "2002-12-31   0.743704 -0.305890        -1.336503\n",
       "2003-12-31   0.129430  0.678980        -0.358946\n",
       "2004-12-31  -1.814366  1.580331        -0.287942\n",
       "2005-12-31  -0.559585 -0.030340        -0.228435\n",
       "2006-12-31   0.785408 -0.810970         0.205526\n",
       "2007-12-31  -0.853302 -1.068907         1.253074\n",
       "2008-12-31  -0.023270 -1.150066         0.103387\n",
       "2009-12-31   0.438888  0.274204        -0.041497\n",
       "2010-12-31  -0.675687  0.247587         0.738766\n",
       "2011-12-31  -0.832380  1.864389         0.081345\n",
       "2012-12-31  -0.181507  0.797170         0.304693\n",
       "2013-12-31  -1.290468  1.019378         0.327538\n",
       "2014-12-31  -1.633544  1.668373         0.960326\n",
       "2015-12-31   0.060576  1.020195         0.679502\n",
       "2016-12-31  -1.277409  0.137727        -1.509210\n",
       "2017-12-31  -0.928415  0.742077         0.522603\n",
       "2018-12-31  -0.315292 -1.061635        -0.111998\n",
       "2019-12-31   2.100200  1.243450        -1.658196\n",
       "2020-12-31  -1.266624  0.551866         0.684481\n",
       "2021-12-31   0.275211  0.318883         0.477822"
      ]
     },
     "execution_count": 24,
     "metadata": {},
     "output_type": "execute_result"
    }
   ],
   "source": [
    "dates = pd.date_range(\"20001120\", periods=22, freq='Y')\n",
    "df = pd.DataFrame(np.random.randn(np.squeeze(dates.shape), 3), \n",
    "                  index=dates, \n",
    "                  columns=[\"Happiness\", \"Luck\", \"Newt's fav song\"])\n",
    "df"
   ]
  },
  {
   "cell_type": "markdown",
   "id": "145cddd0",
   "metadata": {},
   "source": [
    "---\n",
    "\n",
    "### Manipulating Pandas' Time Series"
   ]
  },
  {
   "cell_type": "markdown",
   "id": "3176524a",
   "metadata": {},
   "source": [
    "We have learned before that Pandas Series and DataFrame objects allow sotring data and are indexed. Indices become extremely helpful when we start dealing with Time Series."
   ]
  },
  {
   "cell_type": "markdown",
   "id": "5ac90ccf",
   "metadata": {},
   "source": [
    "---\n",
    "\n",
    "For example we can initialize a Pandas `index` object by using a Pandas `DatetimeIndex` object. The latter can be the used to label a series. Let's take a look.\n",
    "\n",
    "We will first create a range of dates and use them as indeces to a Series:"
   ]
  },
  {
   "cell_type": "code",
   "execution_count": 25,
   "id": "38834478",
   "metadata": {},
   "outputs": [
    {
     "data": {
      "text/plain": [
       "1985-12-31    0\n",
       "1986-12-31    1\n",
       "1987-12-31    2\n",
       "1988-12-31    3\n",
       "1989-12-31    4\n",
       "1990-12-31    5\n",
       "Freq: A-DEC, dtype: int64"
      ]
     },
     "execution_count": 25,
     "metadata": {},
     "output_type": "execute_result"
    }
   ],
   "source": [
    "index   = pd.date_range(\"19851115\", periods=6, freq='Y')\n",
    "data    = [0, 1, 2, 3, 4, 5]\n",
    "\n",
    "dseries = pd.Series(data, index=index)\n",
    "dseries"
   ]
  },
  {
   "cell_type": "markdown",
   "id": "4ae70821",
   "metadata": {},
   "source": [
    "The above dseries is a Padas Series object with a frequency in years ('Y', aligned to december). The labels (or indices) are dates and the data are just numbers between 0 and 5.\n",
    "\n",
    "Just like any label or index we can use the data indices to address the Pandas Series. For example, we can find the a subset of four entries:"
   ]
  },
  {
   "cell_type": "code",
   "execution_count": 26,
   "id": "6d2c15eb",
   "metadata": {},
   "outputs": [
    {
     "data": {
      "text/plain": [
       "1986-12-31    1\n",
       "1987-12-31    2\n",
       "1988-12-31    3\n",
       "1989-12-31    4\n",
       "Freq: A-DEC, dtype: int64"
      ]
     },
     "execution_count": 26,
     "metadata": {},
     "output_type": "execute_result"
    }
   ],
   "source": [
    "dseries['1986-12-31':'1989-12-31']"
   ]
  },
  {
   "cell_type": "markdown",
   "id": "32fcefc1",
   "metadata": {},
   "source": [
    "Also Pandas allows indexing Series by leading trails of the labels. For example, the year can be used as index – without need to specify the rest of the date:"
   ]
  },
  {
   "cell_type": "code",
   "execution_count": 27,
   "id": "c99e81c4",
   "metadata": {},
   "outputs": [
    {
     "data": {
      "text/plain": [
       "1985-12-31    0\n",
       "Freq: A-DEC, dtype: int64"
      ]
     },
     "execution_count": 27,
     "metadata": {},
     "output_type": "execute_result"
    }
   ],
   "source": [
    "dseries['1985']"
   ]
  },
  {
   "cell_type": "markdown",
   "id": "e6fc4ecc",
   "metadata": {},
   "source": [
    "This operation would have worked also if the dates had been different (not all matching December 31).\n",
    "\n",
    "---"
   ]
  },
  {
   "cell_type": "markdown",
   "id": "98ae9f92",
   "metadata": {},
   "source": [
    "In sum, in this tutorial we have provided an overview of some of the functionality that Python, NumPy and Pandas offer to manipulate time series, and date, time objects. Tutorial with more advanced functionality for manipulating and platting time series."
   ]
  },
  {
   "cell_type": "markdown",
   "id": "13ee9756",
   "metadata": {},
   "source": [
    "---\n",
    "\n",
    "$\\color{blue}{\\text{Complete the following exercise.}}$\n",
    "\n",
    "Create a Pandas DataFrame (hah!) that uses dates as indices and stores data about three variables: \n",
    "\n",
    "1. Mental health; \n",
    "2. Quality of life; and \n",
    "3. Heart rate. \n",
    "\n",
    "The measurements were taken in a single subject between May 19, 1985 and June 16, 1995 at a monthly rate. "
   ]
  },
  {
   "cell_type": "code",
   "execution_count": 28,
   "id": "36be1c07",
   "metadata": {},
   "outputs": [
    {
     "data": {
      "text/plain": [
       "DatetimeIndex(['1985-05-08', '1985-06-08', '1985-07-08', '1985-08-08',\n",
       "               '1985-09-08', '1985-10-08', '1985-11-08', '1985-12-08',\n",
       "               '1986-01-08', '1986-02-08',\n",
       "               ...\n",
       "               '1994-09-08', '1994-10-08', '1994-11-08', '1994-12-08',\n",
       "               '1995-01-08', '1995-02-08', '1995-03-08', '1995-04-08',\n",
       "               '1995-05-08', '1995-06-08'],\n",
       "              dtype='datetime64[ns]', length=122, freq=None)"
      ]
     },
     "execution_count": 28,
     "metadata": {},
     "output_type": "execute_result"
    }
   ],
   "source": [
    "start = \"1985-05-10\"\n",
    "end = \"1995-06-16\"\n",
    "dates = pd.date_range(start[:7], end,freq='MS') + pd.DateOffset(days=7)\n",
    "dates"
   ]
  },
  {
   "cell_type": "code",
   "execution_count": 29,
   "id": "00966197",
   "metadata": {},
   "outputs": [
    {
     "data": {
      "text/plain": [
       "DatetimeIndex(['1995-06-16'], dtype='datetime64[ns]', freq=None)"
      ]
     },
     "execution_count": 29,
     "metadata": {},
     "output_type": "execute_result"
    }
   ],
   "source": [
    "date2add = pd.DatetimeIndex([\"1995-06-16\"])\n",
    "date2add"
   ]
  },
  {
   "cell_type": "code",
   "execution_count": 30,
   "id": "7b1d4032",
   "metadata": {},
   "outputs": [
    {
     "data": {
      "text/plain": [
       "DatetimeIndex(['1985-05-08', '1985-06-08', '1985-07-08', '1985-08-08',\n",
       "               '1985-09-08', '1985-10-08', '1985-11-08', '1985-12-08',\n",
       "               '1986-01-08', '1986-02-08',\n",
       "               ...\n",
       "               '1994-10-08', '1994-11-08', '1994-12-08', '1995-01-08',\n",
       "               '1995-02-08', '1995-03-08', '1995-04-08', '1995-05-08',\n",
       "               '1995-06-08', '1995-06-16'],\n",
       "              dtype='datetime64[ns]', length=123, freq=None)"
      ]
     },
     "execution_count": 30,
     "metadata": {},
     "output_type": "execute_result"
    }
   ],
   "source": [
    "dates = dates.append(date2add)\n",
    "dates"
   ]
  },
  {
   "cell_type": "code",
   "execution_count": 32,
   "id": "43dc76d5",
   "metadata": {},
   "outputs": [
    {
     "data": {
      "text/html": [
       "<div>\n",
       "<style scoped>\n",
       "    .dataframe tbody tr th:only-of-type {\n",
       "        vertical-align: middle;\n",
       "    }\n",
       "\n",
       "    .dataframe tbody tr th {\n",
       "        vertical-align: top;\n",
       "    }\n",
       "\n",
       "    .dataframe thead th {\n",
       "        text-align: right;\n",
       "    }\n",
       "</style>\n",
       "<table border=\"1\" class=\"dataframe\">\n",
       "  <thead>\n",
       "    <tr style=\"text-align: right;\">\n",
       "      <th></th>\n",
       "      <th>mental health</th>\n",
       "      <th>quality of life</th>\n",
       "      <th>heart rate</th>\n",
       "    </tr>\n",
       "  </thead>\n",
       "  <tbody>\n",
       "    <tr>\n",
       "      <th>1985-05-08</th>\n",
       "      <td>66</td>\n",
       "      <td>47</td>\n",
       "      <td>1</td>\n",
       "    </tr>\n",
       "    <tr>\n",
       "      <th>1985-06-08</th>\n",
       "      <td>5</td>\n",
       "      <td>35</td>\n",
       "      <td>15</td>\n",
       "    </tr>\n",
       "    <tr>\n",
       "      <th>1985-07-08</th>\n",
       "      <td>97</td>\n",
       "      <td>40</td>\n",
       "      <td>75</td>\n",
       "    </tr>\n",
       "    <tr>\n",
       "      <th>1985-08-08</th>\n",
       "      <td>97</td>\n",
       "      <td>4</td>\n",
       "      <td>45</td>\n",
       "    </tr>\n",
       "    <tr>\n",
       "      <th>1985-09-08</th>\n",
       "      <td>68</td>\n",
       "      <td>61</td>\n",
       "      <td>58</td>\n",
       "    </tr>\n",
       "    <tr>\n",
       "      <th>...</th>\n",
       "      <td>...</td>\n",
       "      <td>...</td>\n",
       "      <td>...</td>\n",
       "    </tr>\n",
       "    <tr>\n",
       "      <th>1995-03-08</th>\n",
       "      <td>59</td>\n",
       "      <td>28</td>\n",
       "      <td>1</td>\n",
       "    </tr>\n",
       "    <tr>\n",
       "      <th>1995-04-08</th>\n",
       "      <td>59</td>\n",
       "      <td>94</td>\n",
       "      <td>71</td>\n",
       "    </tr>\n",
       "    <tr>\n",
       "      <th>1995-05-08</th>\n",
       "      <td>57</td>\n",
       "      <td>32</td>\n",
       "      <td>98</td>\n",
       "    </tr>\n",
       "    <tr>\n",
       "      <th>1995-06-08</th>\n",
       "      <td>0</td>\n",
       "      <td>49</td>\n",
       "      <td>77</td>\n",
       "    </tr>\n",
       "    <tr>\n",
       "      <th>1995-06-16</th>\n",
       "      <td>10</td>\n",
       "      <td>53</td>\n",
       "      <td>20</td>\n",
       "    </tr>\n",
       "  </tbody>\n",
       "</table>\n",
       "<p>123 rows × 3 columns</p>\n",
       "</div>"
      ],
      "text/plain": [
       "            mental health  quality of life  heart rate\n",
       "1985-05-08             66               47           1\n",
       "1985-06-08              5               35          15\n",
       "1985-07-08             97               40          75\n",
       "1985-08-08             97                4          45\n",
       "1985-09-08             68               61          58\n",
       "...                   ...              ...         ...\n",
       "1995-03-08             59               28           1\n",
       "1995-04-08             59               94          71\n",
       "1995-05-08             57               32          98\n",
       "1995-06-08              0               49          77\n",
       "1995-06-16             10               53          20\n",
       "\n",
       "[123 rows x 3 columns]"
      ]
     },
     "execution_count": 32,
     "metadata": {},
     "output_type": "execute_result"
    }
   ],
   "source": [
    "df = pd.DataFrame(np.random.randint(low=0, high=100, size = ((np.squeeze(dates.shape), 3))),\n",
    "                  index=dates, \n",
    "                  columns=[\"mental health\", \"quality of life\", \"heart rate\"])\n",
    "df"
   ]
  }
 ],
 "metadata": {
  "kernelspec": {
   "display_name": "Python 3 (ipykernel)",
   "language": "python",
   "name": "python3"
  },
  "language_info": {
   "codemirror_mode": {
    "name": "ipython",
    "version": 3
   },
   "file_extension": ".py",
   "mimetype": "text/x-python",
   "name": "python",
   "nbconvert_exporter": "python",
   "pygments_lexer": "ipython3",
   "version": "3.10.7"
  }
 },
 "nbformat": 4,
 "nbformat_minor": 5
}
